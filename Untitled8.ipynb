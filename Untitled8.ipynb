{
 "cells": [
  {
   "cell_type": "code",
   "execution_count": 1,
   "metadata": {},
   "outputs": [
    {
     "data": {
      "text/plain": [
       "'\\n\\xe9\\xa2\\x98\\xe7\\x9b\\xae\\xef\\xbc\\x9a\\xe6\\x9c\\x89\\xe5\\x9b\\x9b\\xe4\\xb8\\xaa\\xe6\\x95\\xb0\\xe5\\xad\\x97\\xef\\xbc\\x9a1\\xe3\\x80\\x812\\xe3\\x80\\x813\\xe3\\x80\\x814\\xef\\xbc\\x8c\\xe8\\x83\\xbd\\xe7\\xbb\\x84\\xe6\\x88\\x90\\xe5\\xa4\\x9a\\xe5\\xb0\\x91\\xe4\\xb8\\xaa\\xe4\\xba\\x92\\xe4\\xb8\\x8d\\xe7\\x9b\\xb8\\xe5\\x90\\x8c\\xe4\\xb8\\x94\\xe6\\x97\\xa0\\xe9\\x87\\x8d\\xe5\\xa4\\x8d\\xe6\\x95\\xb0\\xe5\\xad\\x97\\xe7\\x9a\\x84\\xe4\\xb8\\x89\\xe4\\xbd\\x8d\\xe6\\x95\\xb0\\xef\\xbc\\x9f\\xe5\\x90\\x84\\xe6\\x98\\xaf\\xe5\\xa4\\x9a\\xe5\\xb0\\x91\\xef\\xbc\\x9f\\n'"
      ]
     },
     "execution_count": 1,
     "metadata": {},
     "output_type": "execute_result"
    }
   ],
   "source": [
    "\"\"\"\n",
    "题目：有四个数字：1、2、3、4，能组成多少个互不相同且无重复数字的三位数？各是多少？\n",
    "\"\"\""
   ]
  },
  {
   "cell_type": "code",
   "execution_count": 2,
   "metadata": {
    "collapsed": true
   },
   "outputs": [],
   "source": [
    "l = [1,2,3,4]"
   ]
  },
  {
   "cell_type": "code",
   "execution_count": 9,
   "metadata": {},
   "outputs": [],
   "source": [
    "for i in l:\n",
    "    for j in l:\n",
    "        for k in l:\n",
    "            if(i!=j)and(i!=k)and(j!=k):\n",
    "                num = 100*i+10*j+k\n",
    "                num.conjugate\n",
    "            "
   ]
  },
  {
   "cell_type": "code",
   "execution_count": 10,
   "metadata": {
    "collapsed": true
   },
   "outputs": [],
   "source": [
    "list = [1,2,3,4]"
   ]
  },
  {
   "cell_type": "code",
   "execution_count": 11,
   "metadata": {
    "collapsed": true
   },
   "outputs": [],
   "source": [
    "list = [i*100+j*10+k for i in list for j in list for k in list if (i!=j and i!=k and j!=k)]"
   ]
  },
  {
   "cell_type": "code",
   "execution_count": 12,
   "metadata": {},
   "outputs": [
    {
     "name": "stdout",
     "output_type": "stream",
     "text": [
      "[123, 124, 132, 134, 142, 143, 213, 214, 231, 234, 241, 243, 312, 314, 321, 324, 341, 342, 412, 413, 421, 423, 431, 432]\n"
     ]
    }
   ],
   "source": [
    "print(list)"
   ]
  },
  {
   "cell_type": "markdown",
   "metadata": {},
   "source": [
    "题目：企业发放的奖金根据利润提成。\n",
    "利润(I)低于或等于10万元时，奖金可提10%；\n",
    "利润高于10万元，低于20万元时，低于10万元的部分按10%提成，\n",
    "高于10万元的部分，可提成7.5%；20万到40万之间时，高于20万元的部分，可提成5%；\n",
    "40万到60万之间时高于40万元的部分，可提成3%；\n",
    "60万到100万之间时，高于60万元的部分，可提成1.5%，高于100万元时，超过100万元的部分按1%提成，从键盘输入当月利润I，求应发放奖金总数？"
   ]
  },
  {
   "cell_type": "code",
   "execution_count": 13,
   "metadata": {},
   "outputs": [
    {
     "ename": "SyntaxError",
     "evalue": "invalid syntax (<ipython-input-13-79d13f7eb4ea>, line 1)",
     "output_type": "error",
     "traceback": [
      "\u001b[0;36m  File \u001b[0;32m\"<ipython-input-13-79d13f7eb4ea>\"\u001b[0;36m, line \u001b[0;32m1\u001b[0m\n\u001b[0;31m    input l\u001b[0m\n\u001b[0m          ^\u001b[0m\n\u001b[0;31mSyntaxError\u001b[0m\u001b[0;31m:\u001b[0m invalid syntax\n"
     ]
    }
   ],
   "source": [
    "input l"
   ]
  },
  {
   "cell_type": "code",
   "execution_count": 14,
   "metadata": {},
   "outputs": [
    {
     "name": "stdout",
     "output_type": "stream",
     "text": [
      "净利润：1000\n"
     ]
    }
   ],
   "source": [
    "x = int(raw_input(\"净利润：\"))"
   ]
  },
  {
   "cell_type": "code",
   "execution_count": 32,
   "metadata": {},
   "outputs": [
    {
     "name": "stdout",
     "output_type": "stream",
     "text": [
      "净利润：29372\n",
      "獎金：2937.2\n"
     ]
    }
   ],
   "source": [
    "x = int(raw_input(\"净利润：\"))\n",
    "y = 0\n",
    "if x <= 100000:\n",
    "    y = x*0.1\n",
    "elif x > 100000 and x <= 200000:\n",
    "    y = 100000*0.1 + (x-100000)*0.075\n",
    "elif x > 200000 and x <= 400000:\n",
    "    y = 100000*0.1 + 100000*0.075 + (x-200000)*0.05\n",
    "elif x > 400000 and x <= 600000:\n",
    "    y = 100000*0.1 + 100000*0.075 + 200000*0.05 + (x-400000)*0.03\n",
    "elif x > 600000 and x <= 1000000:\n",
    "    y = 100000*0.1 + 100000*0.075 + 200000*0.05 + 200000*0.03 + (x-600000)*0.015 \n",
    "elif x > 1000000:\n",
    "    y = 100000*0.1 + 100000*0.075 + 200000*0.05 + 200000*0.03 + 400000*0.015 + (x-1000000)*0.01\n",
    "\n",
    "print('獎金：%s'%(y))"
   ]
  },
  {
   "cell_type": "code",
   "execution_count": null,
   "metadata": {},
   "outputs": [],
   "source": [
    "value=int(raw_input('please input profit: '))\n",
    "list1=[1000000,600000,400000,200000,100000,0]\n",
    "list2=[0.01,0.015,0.03,0.05,0.075,0.1]\n",
    "list3=[400000,200000,200000,100000,100000]\n",
    "for i in range(6):\n",
    "    if value >list1[i]:\n",
    "        v1=(value-list1[i])*list2[i]\n",
    "        print v1\n",
    "        list2_new=list2[i+1:6]\n",
    "        list3_new=list3[i:5]\n",
    "        v2=sum(map(lambda (x,y):x*y,zip(list2_new,list3_new)))\n",
    "        print v2\n",
    "        print v1+v2\n",
    "        break"
   ]
  },
  {
   "cell_type": "code",
   "execution_count": null,
   "metadata": {},
   "outputs": [],
   "source": [
    "value=int(raw_input('please input profit: '))\n",
    "list1=[1000000,600000,400000,200000,100000,0]\n",
    "list2=[0.01,0.015,0.03,0.05,0.075,0.1]\n",
    "list3=[400000,200000,200000,100000,100000]\n",
    "for i in range(6):\n",
    "    if value >list1[i]:\n",
    "        v1=(value-list1[i])*list2[i]\n",
    "        print v1\n",
    "        list2_new=list2[i+1:6]\n",
    "        list3_new=list3[i:5]\n",
    "        v2=sum(map(lambda (x,y):x*y,zip(list2_new,list3_new)))\n",
    "        print v2\n",
    "        print v1+v2\n",
    "        break\n"
   ]
  },
  {
   "cell_type": "code",
   "execution_count": 29,
   "metadata": {},
   "outputs": [
    {
     "data": {
      "text/plain": [
       "<generator object fib at 0x1028c9e60>"
      ]
     },
     "execution_count": 29,
     "metadata": {},
     "output_type": "execute_result"
    }
   ],
   "source": [
    "f"
   ]
  },
  {
   "cell_type": "code",
   "execution_count": 30,
   "metadata": {},
   "outputs": [
    {
     "ename": "TypeError",
     "evalue": "'generator' object is not callable",
     "output_type": "error",
     "traceback": [
      "\u001b[0;31m---------------------------------------------------------------------------\u001b[0m",
      "\u001b[0;31mTypeError\u001b[0m                                 Traceback (most recent call last)",
      "\u001b[0;32m<ipython-input-30-9dbd61db9801>\u001b[0m in \u001b[0;36m<module>\u001b[0;34m()\u001b[0m\n\u001b[0;32m----> 1\u001b[0;31m \u001b[0mf\u001b[0m\u001b[0;34m(\u001b[0m\u001b[0;36m0\u001b[0m\u001b[0;34m,\u001b[0m\u001b[0;36m10\u001b[0m\u001b[0;34m)\u001b[0m\u001b[0;34m\u001b[0m\u001b[0m\n\u001b[0m",
      "\u001b[0;31mTypeError\u001b[0m: 'generator' object is not callable"
     ]
    }
   ],
   "source": [
    "f(0,10)"
   ]
  },
  {
   "cell_type": "code",
   "execution_count": 31,
   "metadata": {},
   "outputs": [
    {
     "ename": "NameError",
     "evalue": "name 'islice' is not defined",
     "output_type": "error",
     "traceback": [
      "\u001b[0;31m---------------------------------------------------------------------------\u001b[0m",
      "\u001b[0;31mNameError\u001b[0m                                 Traceback (most recent call last)",
      "\u001b[0;32m<ipython-input-31-fd335e763ce6>\u001b[0m in \u001b[0;36m<module>\u001b[0;34m()\u001b[0m\n\u001b[0;32m----> 1\u001b[0;31m \u001b[0mislice\u001b[0m\u001b[0;34m(\u001b[0m\u001b[0;34m)\u001b[0m\u001b[0;34m\u001b[0m\u001b[0m\n\u001b[0m",
      "\u001b[0;31mNameError\u001b[0m: name 'islice' is not defined"
     ]
    }
   ],
   "source": [
    "islice()"
   ]
  },
  {
   "cell_type": "code",
   "execution_count": null,
   "metadata": {
    "collapsed": true
   },
   "outputs": [],
   "source": [
    "list1 = [1000000,600000,400000,200000,100000,0]\n",
    "list2 = [0.01,0.015,0.03,0.05,0.075,0.1]\n",
    "list3 = [400000,200000,200000,100000,100000]\n",
    "\n",
    "for i in range(6)\n",
    "    if x > list[i]:\n",
    "        v1 = ( x - list1[i])"
   ]
  },
  {
   "cell_type": "code",
   "execution_count": null,
   "metadata": {
    "collapsed": true
   },
   "outputs": [],
   "source": []
  },
  {
   "cell_type": "code",
   "execution_count": null,
   "metadata": {
    "collapsed": true
   },
   "outputs": [],
   "source": []
  },
  {
   "cell_type": "code",
   "execution_count": null,
   "metadata": {
    "collapsed": true
   },
   "outputs": [],
   "source": []
  },
  {
   "cell_type": "code",
   "execution_count": null,
   "metadata": {
    "collapsed": true
   },
   "outputs": [],
   "source": [
    "value=int(raw_input('please input profit: '))\n",
    "list1=[1000000,600000,400000,200000,100000,0]\n",
    "list2=[0.01,0.015,0.03,0.05,0.075,0.1]\n",
    "list3=[400000,200000,200000,100000,100000]\n",
    "for i in range(6):\n",
    "    if value >list1[i]:\n",
    "        v1=(value-list1[i])*list2[i]\n",
    "        print v1\n",
    "        list2_new=list2[i+1:6]\n",
    "        list3_new=list3[i:5]\n",
    "        v2=sum(map(lambda (x,y):x*y,zip(list2_new,list3_new)))\n",
    "        print v2\n",
    "        print v1+v2\n",
    "        break"
   ]
  },
  {
   "cell_type": "code",
   "execution_count": null,
   "metadata": {
    "collapsed": true
   },
   "outputs": [],
   "source": []
  }
 ],
 "metadata": {
  "kernelspec": {
   "display_name": "Python 2",
   "language": "python",
   "name": "python2"
  },
  "language_info": {
   "codemirror_mode": {
    "name": "ipython",
    "version": 2
   },
   "file_extension": ".py",
   "mimetype": "text/x-python",
   "name": "python",
   "nbconvert_exporter": "python",
   "pygments_lexer": "ipython2",
   "version": "2.7.13"
  }
 },
 "nbformat": 4,
 "nbformat_minor": 2
}
