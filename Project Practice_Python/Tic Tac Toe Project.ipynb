{
 "cells": [
  {
   "cell_type": "code",
   "execution_count": 1,
   "metadata": {
    "collapsed": true
   },
   "outputs": [],
   "source": [
    "from IPython.display import clear_output\n",
    "keypad = ['0','1','2','3','4','5','6','7','8']\n",
    "board = ['i1','i2','i3','j1','j2','j3','k1','k2','k3']\n",
    "\n",
    "# Creat a Board"
   ]
  },
  {
   "cell_type": "code",
   "execution_count": 2,
   "metadata": {},
   "outputs": [
    {
     "ename": "SyntaxError",
     "evalue": "Missing parentheses in call to 'print' (<ipython-input-2-0c11f5f76d4e>, line 2)",
     "output_type": "error",
     "traceback": [
      "\u001b[0;36m  File \u001b[0;32m\"<ipython-input-2-0c11f5f76d4e>\"\u001b[0;36m, line \u001b[0;32m2\u001b[0m\n\u001b[0;31m    print 'Welcome to Wei Chien Tic Tac Toe Game'\u001b[0m\n\u001b[0m                                                ^\u001b[0m\n\u001b[0;31mSyntaxError\u001b[0m\u001b[0;31m:\u001b[0m Missing parentheses in call to 'print'\n"
     ]
    }
   ],
   "source": [
    "def restart_game():\n",
    "    print 'Welcome to Wei Chien Tic Tac Toe Game'\n",
    "    global keypad,board\n",
    "    keypad = ['0','1','2','3','4','5','6','7','8']\n",
    "    board = ['i1','i2','i3','j1','j2','j3','k1','k2','k3']\n",
    "    global n\n",
    "    n = 1"
   ]
  },
  {
   "cell_type": "code",
   "execution_count": 3,
   "metadata": {
    "collapsed": true,
    "scrolled": true
   },
   "outputs": [],
   "source": [
    "def board_print():\n",
    "    clear_output()\n",
    "    print('   |   |')\n",
    "    print(' ' + keypad[0] + ' | ' + keypad[1] + ' | ' + keypad[2])\n",
    "    print('   |   |')\n",
    "    print('-----------')\n",
    "    print('   |   |')\n",
    "    print(' ' + keypad[3] + ' | ' + keypad[4] + ' | ' + keypad[5])\n",
    "    print('   |   |')\n",
    "    print('-----------')\n",
    "    print('   |   |')\n",
    "    print(' ' + keypad[6] + ' | ' + keypad[7] + ' | ' + keypad[8])\n",
    "    print('   |   |')\n",
    "# Print a board"
   ]
  },
  {
   "cell_type": "code",
   "execution_count": 4,
   "metadata": {
    "collapsed": true
   },
   "outputs": [],
   "source": [
    "def player1():\n",
    "    \n",
    "    loc = ''\n",
    "    while loc not in keypad:\n",
    "        loc = raw_input('Player 1 where you want to put your O:') \n",
    "        \n",
    "    for loc_change in keypad:\n",
    "        if loc_change == loc:\n",
    "            board [int(keypad[int(loc_change)])] = 'O'\n",
    "            keypad[int(keypad[int(loc_change)])] = 'O'\n",
    "                \n",
    "    board_print()\n"
   ]
  },
  {
   "cell_type": "code",
   "execution_count": 5,
   "metadata": {
    "collapsed": true
   },
   "outputs": [],
   "source": [
    "def player2():\n",
    "    \n",
    "    loc2 = ''\n",
    "    while loc2 not in keypad:\n",
    "        loc2 = raw_input('Player 2 where you want to put your X:') \n",
    "        \n",
    "    for loc2_change in keypad:\n",
    "        if loc2_change == loc2:\n",
    "            board [int(keypad[int(loc2_change)])] = 'X'\n",
    "            keypad[int(keypad[int(loc2_change)])] = 'X'\n",
    "                \n",
    "    board_print()\n",
    "\n"
   ]
  },
  {
   "cell_type": "code",
   "execution_count": 6,
   "metadata": {},
   "outputs": [
    {
     "ename": "SyntaxError",
     "evalue": "invalid syntax (<ipython-input-6-8a4203135fd0>, line 4)",
     "output_type": "error",
     "traceback": [
      "\u001b[0;36m  File \u001b[0;32m\"<ipython-input-6-8a4203135fd0>\"\u001b[0;36m, line \u001b[0;32m4\u001b[0m\n\u001b[0;31m    print'Game Tied. There is no winer'\u001b[0m\n\u001b[0m                                      ^\u001b[0m\n\u001b[0;31mSyntaxError\u001b[0m\u001b[0;31m:\u001b[0m invalid syntax\n"
     ]
    }
   ],
   "source": [
    "def check_tie():\n",
    "    board_check_str = \"\".join(board)\n",
    "    if board_check_str.isalpha():\n",
    "        print'Game Tied. There is no winer'\n",
    "        global n\n",
    "        n = 0\n",
    "    else:\n",
    "        check_win_lost()\n",
    "    "
   ]
  },
  {
   "cell_type": "code",
   "execution_count": 7,
   "metadata": {},
   "outputs": [
    {
     "ename": "SyntaxError",
     "evalue": "invalid syntax (<ipython-input-7-0cd3cc49cf5d>, line 4)",
     "output_type": "error",
     "traceback": [
      "\u001b[0;36m  File \u001b[0;32m\"<ipython-input-7-0cd3cc49cf5d>\"\u001b[0;36m, line \u001b[0;32m4\u001b[0m\n\u001b[0;31m    print'Player 2 is a winer'\u001b[0m\n\u001b[0m                             ^\u001b[0m\n\u001b[0;31mSyntaxError\u001b[0m\u001b[0;31m:\u001b[0m invalid syntax\n"
     ]
    }
   ],
   "source": [
    "def check_win_lost():\n",
    "    if board[0]==board[1]==board[2] or board[3]==board[4]==board[5] or board[6]==board[7]==board[8] or board[0]==board[3]==board[6] or board[1]==board[4]==board[7] or board[2]==board[5]==board[8] or board[0]==board[4]==board[8]or board[2]==board[4]==board[6]:\n",
    "        if board[0]==board[1]==board[2]=='X' or board[3]==board[4]==board[5]=='X' or board[6]==board[7]==board[8]=='X' or board[0]==board[3]==board[6]=='X' or board[1]==board[4]==board[7]=='X' or board[2]==board[5]==board[8]=='X' or board[0]==board[4]==board[8]=='X'or board[2]==board[4]==board[6]=='X':\n",
    "            print'Player 2 is a winer'\n",
    "            global n\n",
    "            n = 0\n",
    "        else:\n",
    "            print'Player 1 is a winer'\n",
    "            n = 0    \n",
    "    else:\n",
    "        pass"
   ]
  },
  {
   "cell_type": "code",
   "execution_count": 69,
   "metadata": {
    "collapsed": true
   },
   "outputs": [],
   "source": [
    "def game():\n",
    "    restart_game()\n",
    "    board_print()\n",
    "    while n>0:\n",
    "        player1()\n",
    "        check_tie()\n",
    "        if n!=0:\n",
    "            player2()\n",
    "            check_tie()\n",
    "        else:\n",
    "            pass\n",
    "    else:\n",
    "        print'The Game is end'\n",
    "        "
   ]
  },
  {
   "cell_type": "code",
   "execution_count": 71,
   "metadata": {},
   "outputs": [
    {
     "name": "stdout",
     "output_type": "stream",
     "text": [
      "   |   |\n",
      " X | 1 | 2\n",
      "   |   |\n",
      "-----------\n",
      "   |   |\n",
      " 3 | 4 | X\n",
      "   |   |\n",
      "-----------\n",
      "   |   |\n",
      " O | O | O\n",
      "   |   |\n",
      "Player 1 is a winer\n",
      "The Game is end\n"
     ]
    }
   ],
   "source": [
    "game()"
   ]
  },
  {
   "cell_type": "code",
   "execution_count": null,
   "metadata": {
    "collapsed": true
   },
   "outputs": [],
   "source": []
  }
 ],
 "metadata": {
  "kernelspec": {
   "display_name": "Python 3",
   "language": "python",
   "name": "python3"
  },
  "language_info": {
   "codemirror_mode": {
    "name": "ipython",
    "version": 3
   },
   "file_extension": ".py",
   "mimetype": "text/x-python",
   "name": "python",
   "nbconvert_exporter": "python",
   "pygments_lexer": "ipython3",
   "version": "3.6.1"
  }
 },
 "nbformat": 4,
 "nbformat_minor": 2
}
