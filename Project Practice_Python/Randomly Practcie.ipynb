{
 "cells": [
  {
   "cell_type": "markdown",
   "metadata": {},
   "source": [
    "## Count the profit"
   ]
  },
  {
   "cell_type": "code",
   "execution_count": 3,
   "metadata": {},
   "outputs": [
    {
     "name": "stdout",
     "output_type": "stream",
     "text": [
      "please input profit: 29372\n",
      "2937.2\n",
      "0\n",
      "2937.2\n"
     ]
    }
   ],
   "source": [
    "value=int(raw_input('please input profit: '))\n",
    "list1=[1000000,600000,400000,200000,100000,0]\n",
    "list2=[0.01,0.015,0.03,0.05,0.075,0.1]\n",
    "list3=[400000,200000,200000,100000,100000]\n",
    "for i in range(6):\n",
    "    if value >list1[i]:\n",
    "        v1=(value-list1[i])*list2[i]\n",
    "        print v1\n",
    "        list2_new=list2[i+1:6]\n",
    "        list3_new=list3[i:5]\n",
    "        v2=sum(map(lambda (x,y):x*y,zip(list2_new,list3_new)))\n",
    "        print v2\n",
    "        print v1+v2\n",
    "        break"
   ]
  },
  {
   "cell_type": "code",
   "execution_count": 16,
   "metadata": {},
   "outputs": [
    {
     "name": "stdout",
     "output_type": "stream",
     "text": [
      "净利润：382372\n",
      "獎金：26618.6\n"
     ]
    }
   ],
   "source": [
    "x = int(raw_input(\"净利润：\"))\n",
    "y = 0\n",
    "if x <= 100000:\n",
    "    y = x*0.1\n",
    "elif x > 100000 and x <= 200000:\n",
    "    y = 100000*0.1 + (x-100000)*0.075\n",
    "elif x > 200000 and x <= 400000:\n",
    "    y = 100000*0.1 + 100000*0.075 + (x-200000)*0.05\n",
    "elif x > 400000 and x <= 600000:\n",
    "    y = 100000*0.1 + 100000*0.075 + 200000*0.05 + (x-400000)*0.03\n",
    "elif x > 600000 and x <= 1000000:\n",
    "    y = 100000*0.1 + 100000*0.075 + 200000*0.05 + 200000*0.03 + (x-600000)*0.015 \n",
    "elif x > 1000000:\n",
    "    y = 100000*0.1 + 100000*0.075 + 200000*0.05 + 200000*0.03 + 400000*0.015 + (x-1000000)*0.01\n",
    "\n",
    "print('獎金：%s'%(y))"
   ]
  },
  {
   "cell_type": "code",
   "execution_count": 18,
   "metadata": {},
   "outputs": [
    {
     "name": "stdout",
     "output_type": "stream",
     "text": [
      "利潤:382372\n",
      "9118.6\n",
      "17500.0\n",
      "分紅: 26618.6\n"
     ]
    }
   ],
   "source": [
    "#!/usr/bin/python\n",
    "# -*- coding: UTF-8 -*-\n",
    "\n",
    "value = int(raw_input(\"利潤:\"))\n",
    "\n",
    "list_limit = [1000000,600000,400000,200000,100000,0]\n",
    "list_bonus = [0.01,0.015,0.03,0.05,0.075,0.1]\n",
    "list_past = [400000,200000,200000,100000,100000]\n",
    "\n",
    "for i in range(6):\n",
    "    if value > list_limit[i]:\n",
    "        value1 = (value - list_limit[i])*list_bonus[i]\n",
    "        print value1\n",
    "        list_bonus_new = list_bonus[i+1:6] #移除超出界線的\n",
    "        list_past_new = list_past[i:5] #移除已經算過的\n",
    "        value2 = sum(map(lambda(x,y):x*y,zip(list_bonus_new,list_past_new))) #用zip合併兩個list,呈現成(x,y)的形式\n",
    "        print value2\n",
    "        print(\"分紅: %s\"%(value1+value2))\n",
    "        break"
   ]
  },
  {
   "cell_type": "code",
   "execution_count": 80,
   "metadata": {},
   "outputs": [
    {
     "name": "stdout",
     "output_type": "stream",
     "text": [
      "year:\n",
      "1993\n",
      "month\n",
      ":2\n",
      "day:\n",
      "27\n",
      "that is the 58 days\n"
     ]
    }
   ],
   "source": [
    "year = int(raw_input('year:\\n'))\n",
    "month = int(raw_input('month\\n:'))\n",
    "day = int(raw_input('day:\\n'))\n",
    "\n",
    "mon_c = range(1,13)\n",
    "day_c = [31,28,31,30,31,30,31,31,30,31,30,31]\n",
    "\n",
    "for m in range(12):\n",
    "    if month == mon_c[m]:\n",
    "        days = sum(day_c[:m])\n",
    "        days += day\n",
    "        if year%4==0 and month>2:\n",
    "            days += 1\n",
    "            print  'that is the %s days' %(days)\n",
    "            break\n",
    "        else:\n",
    "            print 'that is the %s days' %(days)\n",
    "            "
   ]
  },
  {
   "cell_type": "markdown",
   "metadata": {},
   "source": [
    "## Count if the year is leap year"
   ]
  },
  {
   "cell_type": "code",
   "execution_count": 81,
   "metadata": {},
   "outputs": [
    {
     "name": "stdout",
     "output_type": "stream",
     "text": [
      "请输入年份：1993\n",
      "请输入月份：2\n",
      "请输入天数：27\n",
      "这一天是这一年的第58天\n"
     ]
    }
   ],
   "source": [
    "i= int(input('请输入年份：'))\n",
    "j= int(input('请输入月份：'))\n",
    "k= int(input('请输入天数：'))\n",
    "month = [31,28,31,30,31,30,31,31,30,31,30,31]\n",
    "day = 0\n",
    "if i%4 == 0  or i %400 == 0 and i%100 != 0: #闰年\n",
    "    month = month[:j-1]\n",
    "    if j >2:    #大于2月份\n",
    "        day = sum(month)+1+k\n",
    "        \n",
    "    elif j== 2 and k ==29:    #刚好在闰年闰天\n",
    "        day = sum(month)+1+k\n",
    "        \n",
    "    else:                            \n",
    "        day = sum(month)+k\n",
    "else:    #平年\n",
    "    month = month[:j-1]\n",
    "    day = sum(month)+k\n",
    "    \n",
    "print('这一天是这一年的第{}天'.format(day))"
   ]
  },
  {
   "cell_type": "code",
   "execution_count": 87,
   "metadata": {},
   "outputs": [
    {
     "data": {
      "text/plain": [
       "{-99, 21, 261, 1581}"
      ]
     },
     "execution_count": 87,
     "metadata": {},
     "output_type": "execute_result"
    }
   ],
   "source": [
    "mn_list = [((i-j)/2)**2-100 for i in range(2,85) for j in range(2,85) if (j%2==0 and i%2==0 and i*j == 168)]\n",
    "set(mn_list)"
   ]
  },
  {
   "cell_type": "markdown",
   "metadata": {},
   "source": [
    "## 有四个数字：1、2、3、4，能组成多少个互不相同且无重复数字的三位数？各是多少？"
   ]
  },
  {
   "cell_type": "code",
   "execution_count": 98,
   "metadata": {
    "collapsed": true
   },
   "outputs": [],
   "source": [
    "def random(list):\n",
    "    for h in list:\n",
    "        for t in list:\n",
    "            for d in list:\n",
    "                if h!=t and h!=d and t!=d:\n",
    "                    print 100*h + 10*t + d"
   ]
  },
  {
   "cell_type": "code",
   "execution_count": 125,
   "metadata": {
    "collapsed": true
   },
   "outputs": [],
   "source": [
    "def random(list,num):\n",
    "    for count in range(0,num):\n",
    "        for list[count] in list:\n",
    "            list[count] != list[count+1]\n",
    "            "
   ]
  },
  {
   "cell_type": "code",
   "execution_count": 126,
   "metadata": {},
   "outputs": [
    {
     "name": "stdout",
     "output_type": "stream",
     "text": [
      "1\n",
      "2\n",
      "3\n",
      "4\n",
      "4\n",
      "4\n",
      "3\n",
      "4\n"
     ]
    }
   ],
   "source": [
    "l = [1,2,3]\n",
    "n = 2\n",
    "\n",
    "for num in l:\n",
    "    "
   ]
  },
  {
   "cell_type": "markdown",
   "metadata": {},
   "source": [
    "## 输入三个整数x,y,z，请把这三个数由小到大输出。"
   ]
  },
  {
   "cell_type": "code",
   "execution_count": 149,
   "metadata": {},
   "outputs": [
    {
     "name": "stdout",
     "output_type": "stream",
     "text": [
      "a42\n",
      "b52\n",
      "c33\n",
      "[33, 42, 52]\n"
     ]
    }
   ],
   "source": [
    "a = int(raw_input('a'))\n",
    "b = int(raw_input('b'))\n",
    "c = int(raw_input('c'))\n",
    "\n",
    "list = [a,b,c]\n",
    "list.sort()\n",
    "print list"
   ]
  },
  {
   "cell_type": "code",
   "execution_count": 163,
   "metadata": {
    "collapsed": true
   },
   "outputs": [],
   "source": [
    "def arran(num1,num2,num3):\n",
    "    arr = [num1,num2,num3]\n",
    "    for i in range (0,3):\n",
    "        for o in range (0,3):\n",
    "            for p in range (0,3):\n",
    "                if arr[i] > arr[o] > arr[p]:\n",
    "                    print arr[i],arr[o],arr[p]"
   ]
  },
  {
   "cell_type": "code",
   "execution_count": 169,
   "metadata": {},
   "outputs": [
    {
     "name": "stdout",
     "output_type": "stream",
     "text": [
      "41 32 23\n"
     ]
    }
   ],
   "source": [
    "arran(23,41,32)"
   ]
  },
  {
   "cell_type": "code",
   "execution_count": 177,
   "metadata": {},
   "outputs": [
    {
     "data": {
      "text/plain": [
       "[0, 1, 1, 2, 3, 5, 8, 13, 21, 34, 55, 89, 144, 233, 377, 610, 987, 1597]"
      ]
     },
     "execution_count": 177,
     "metadata": {},
     "output_type": "execute_result"
    }
   ],
   "source": [
    "a=0\n",
    "b=1\n",
    "k=[]\n",
    "\n",
    "while a < b:\n",
    "    c = a+b\n",
    "    k.append(a)\n",
    "    k.append(b)\n",
    "    k.append(c)\n",
    "    a = b+c\n",
    "    b = a+c\n",
    "    \n",
    "    if len(k)>15:\n",
    "        break\n",
    "k"
   ]
  },
  {
   "cell_type": "markdown",
   "metadata": {},
   "source": [
    "## Make a 99 multiplication"
   ]
  },
  {
   "cell_type": "code",
   "execution_count": 35,
   "metadata": {},
   "outputs": [
    {
     "name": "stdout",
     "output_type": "stream",
     "text": [
      "\n",
      "1*1=1\n",
      "2*1=2 2*2=4\n",
      "3*1=3 3*2=6 3*3=9\n",
      "4*1=4 4*2=8 4*3=12 4*4=16\n",
      "5*1=5 5*2=10 5*3=15 5*4=20 5*5=25\n",
      "6*1=6 6*2=12 6*3=18 6*4=24 6*5=30 6*6=36\n",
      "7*1=7 7*2=14 7*3=21 7*4=28 7*5=35 7*6=42 7*7=49\n",
      "8*1=8 8*2=16 8*3=24 8*4=32 8*5=40 8*6=48 8*7=56 8*8=64\n",
      "9*1=9 9*2=18 9*3=27 9*4=36 9*5=45 9*6=54 9*7=63 9*8=72 9*9=81\n"
     ]
    }
   ],
   "source": [
    "for i in range(1, 10):\n",
    "    print \n",
    "    for j in range(1, i+1):\n",
    "        print \"%d*%d=%d\" % (i, j, i*j),"
   ]
  },
  {
   "cell_type": "markdown",
   "metadata": {},
   "source": [
    "## 古典问题：有一对兔子，从出生后第3个月起每个月都生一对兔子，小兔子长到第三个月后每个月又生一对兔子，假如兔子都不死，问每个月的兔子总数为多少？"
   ]
  },
  {
   "cell_type": "code",
   "execution_count": 61,
   "metadata": {},
   "outputs": [
    {
     "data": {
      "text/plain": [
       "[101,\n",
       " 103,\n",
       " 107,\n",
       " 109,\n",
       " 113,\n",
       " 127,\n",
       " 131,\n",
       " 137,\n",
       " 139,\n",
       " 149,\n",
       " 151,\n",
       " 157,\n",
       " 163,\n",
       " 167,\n",
       " 173,\n",
       " 179,\n",
       " 181,\n",
       " 191,\n",
       " 193,\n",
       " 197,\n",
       " 199]"
      ]
     },
     "execution_count": 61,
     "metadata": {},
     "output_type": "execute_result"
    }
   ],
   "source": [
    "list=range(101,201)\n",
    "for l in range(101,201):\n",
    "    for k in range(2,l):\n",
    "        if l%k ==0:\n",
    "            list.remove(l)\n",
    "            break\n",
    "list"
   ]
  },
  {
   "cell_type": "code",
   "execution_count": 62,
   "metadata": {
    "collapsed": true
   },
   "outputs": [],
   "source": [
    "k = []"
   ]
  },
  {
   "cell_type": "markdown",
   "metadata": {
    "collapsed": true
   },
   "source": [
    "### 打印出所有的\"水仙花数\"，所谓\"水仙花数\"是指一个三位数，其各位数字立方和等于该数本身。例如：153是一个\"水仙花数\"，因为153=1的三次方＋5的三次方＋3的三次方。"
   ]
  },
  {
   "cell_type": "code",
   "execution_count": 67,
   "metadata": {},
   "outputs": [
    {
     "data": {
      "text/plain": [
       "[153, 370, 371, 407]"
      ]
     },
     "execution_count": 67,
     "metadata": {},
     "output_type": "execute_result"
    }
   ],
   "source": [
    "k=[]\n",
    "for h in range(1,10):\n",
    "    for d in range(10):\n",
    "        for s in range(10):\n",
    "            m = h*100 + d*10 + s\n",
    "            if h**3+d**3+s**3 == m:\n",
    "                k.append(m)\n",
    "k"
   ]
  },
  {
   "cell_type": "markdown",
   "metadata": {},
   "source": [
    "### 将一个正整数分解质因数。例如：输入90,打印出90=2*3*3*5。"
   ]
  },
  {
   "cell_type": "code",
   "execution_count": 164,
   "metadata": {},
   "outputs": [
    {
     "name": "stdout",
     "output_type": "stream",
     "text": [
      "input number:66\n"
     ]
    },
    {
     "data": {
      "text/plain": [
       "[2, 3, 11]"
      ]
     },
     "execution_count": 164,
     "metadata": {},
     "output_type": "execute_result"
    }
   ],
   "source": [
    "h=0\n",
    "l=[]\n",
    "num = int(raw_input('input number:'))\n",
    "for i in range(2,num):\n",
    "    if num%i==0:\n",
    "        h = i\n",
    "        if prime_is(h) == 'f':\n",
    "            l.append(h)\n",
    "            num = num/h\n"
   ]
  },
  {
   "cell_type": "markdown",
   "metadata": {},
   "source": [
    "### 利用条件运算符的嵌套来完成此题：学习成绩>=90分的同学用A表示，60-89分之间的用B表示，60分以下的用C表示。"
   ]
  },
  {
   "cell_type": "code",
   "execution_count": 174,
   "metadata": {},
   "outputs": [
    {
     "name": "stdout",
     "output_type": "stream",
     "text": [
      "input your score:59\n",
      "C\n"
     ]
    }
   ],
   "source": [
    "score = int(raw_input('input your score:'))\n",
    "if score >= 90:\n",
    "    print 'A'\n",
    "elif score < 90 and score >= 60:\n",
    "    print 'B'\n",
    "else:\n",
    "    print 'C'"
   ]
  },
  {
   "cell_type": "markdown",
   "metadata": {},
   "source": [
    "### 求s=a+aa+aaa+aaaa+aa...a的值，其中a是一个数字。例如2+22+222+2222+22222(此时共有5个数相加)，几个数相加由键盘控制。"
   ]
  },
  {
   "cell_type": "code",
   "execution_count": 181,
   "metadata": {},
   "outputs": [
    {
     "name": "stdout",
     "output_type": "stream",
     "text": [
      "a=4\n",
      "n=4\n",
      "4936\n"
     ]
    }
   ],
   "source": [
    "a = int(raw_input('a='))\n",
    "n = int(raw_input('n='))\n",
    "b = 0\n",
    "m = 0\n",
    "\n",
    "for n in range(0,n):\n",
    "    b = (10**n)*a +b\n",
    "    m += b\n",
    "\n",
    "print m"
   ]
  },
  {
   "cell_type": "markdown",
   "metadata": {},
   "source": [
    "### 一球从100米高度自由落下，每次落地后反跳回原高度的一半；再落下，求它在第10次落地时，共经过多少米？第10次反弹多高？"
   ]
  },
  {
   "cell_type": "code",
   "execution_count": 230,
   "metadata": {},
   "outputs": [
    {
     "name": "stdout",
     "output_type": "stream",
     "text": [
      "number of down:10\n",
      "number of up:10\n",
      "落下距離: 0.1953125\n",
      "落下總距離: 199.8046875\n",
      "反彈高度: 0.09765625\n",
      "反彈總高度: 99.90234375\n",
      "總經過: 299.70703125\n"
     ]
    }
   ],
   "source": [
    "down_dis = 0\n",
    "up_dis = 0\n",
    "\n",
    "down_n = int(raw_input('number of down:'))\n",
    "up_n = int(raw_input('number of up:'))\n",
    "\n",
    "for d in range(down_n):\n",
    "    down = 100/(2.0**d)\n",
    "    down_dis += down\n",
    "\n",
    "print '落下距離: %s'%(down)\n",
    "print '落下總距離: %s'%(down_dis)\n",
    "\n",
    "for u in range(up_n):\n",
    "    up = 50/(2.0**u)\n",
    "    up_dis += up\n",
    "print '反彈高度: %s' %(up)\n",
    "print '反彈總高度: %s' %(up_dis)\n",
    "print '總經過: %s' %(down_dis+up_dis)"
   ]
  },
  {
   "cell_type": "markdown",
   "metadata": {},
   "source": [
    "### 猴子吃桃问题：猴子第一天摘下若干个桃子，当即吃了一半，还不瘾，又多吃了一个第二天早上又将剩下的桃子吃掉一半，又多吃了一个。以后每天早上都吃了前一天剩下的一半零一个。到第10天早上想再吃时，见只剩下一个桃子了。求第一天共摘了多少。"
   ]
  },
  {
   "cell_type": "code",
   "execution_count": 236,
   "metadata": {},
   "outputs": [
    {
     "name": "stdout",
     "output_type": "stream",
     "text": [
      "1534\n"
     ]
    }
   ],
   "source": [
    "rest=1\n",
    "for day in range (9,0,-1):\n",
    "    have = (rest +1) *2\n",
    "    rest = have\n",
    "\n",
    "print have"
   ]
  },
  {
   "cell_type": "markdown",
   "metadata": {},
   "source": [
    "两个乒乓球队进行比赛，各出三人。甲队为a,b,c三人，乙队为x,y,z三人。已抽签决定比赛名单。有人向队员打听比赛的名单。a说他不和x比，c说他不和x,z比，请编程序找出三队赛手的名单。"
   ]
  },
  {
   "cell_type": "code",
   "execution_count": 243,
   "metadata": {},
   "outputs": [
    {
     "name": "stdout",
     "output_type": "stream",
     "text": [
      "a and z b and x c and y\n"
     ]
    }
   ],
   "source": [
    "team2 =[\"x\",\"y\",\"z\"]\n",
    "for a in team2:\n",
    "    for b in team2:\n",
    "        for c in team2:\n",
    "            if a!='x' and c!='x'and c!='z' and a!=b and a!=c and b!=c:\n",
    "                print('a and %s b and %s c and %s')%(a,b,c)\n",
    "                \n"
   ]
  },
  {
   "cell_type": "code",
   "execution_count": null,
   "metadata": {
    "collapsed": true
   },
   "outputs": [],
   "source": [
    "   *\n",
    "  ***\n",
    " *****\n",
    "*******\n",
    " *****\n",
    "  ***\n",
    "   *"
   ]
  },
  {
   "cell_type": "code",
   "execution_count": 250,
   "metadata": {},
   "outputs": [
    {
     "name": "stdout",
     "output_type": "stream",
     "text": [
      "   *\n",
      "  ***\n",
      " *****\n",
      "*******\n",
      " *****\n",
      "  ***\n",
      "   *\n"
     ]
    }
   ],
   "source": [
    "for i in range(4):\n",
    "    print((3-i)*' '+(2*i+1)*'*')\n",
    "for i in range(3):\n",
    "    print((i+1)*' '+(5-2*i)*'*')"
   ]
  },
  {
   "cell_type": "code",
   "execution_count": 251,
   "metadata": {},
   "outputs": [
    {
     "name": "stdout",
     "output_type": "stream",
     "text": [
      "  yyy\n"
     ]
    }
   ],
   "source": [
    "print(2*' '+3*'y')"
   ]
  },
  {
   "cell_type": "code",
   "execution_count": 66,
   "metadata": {
    "collapsed": true
   },
   "outputs": [],
   "source": [
    "from abc import ABCMeta, abstractmethod\n",
    "\n",
    "class Vehicle (object):\n",
    "    \n",
    "    _metaclass_ = ABCMeta\n",
    "    \n",
    "    base_sale_price = 0\n",
    "    wheels = 0  #會有差異的兩個先設為零\n",
    "    \n",
    "    def __init__ (self,name,model,sold_on):\n",
    "        self.name = name\n",
    "        self.model = model\n",
    "        self.sold_on = sold_on\n",
    "   \n",
    "    def sale_price(self):\n",
    "        if self.sold_on is not None:\n",
    "            return 0.0\n",
    "        return 5000 * self.wheels #do not know self_wheels\n",
    "    \n",
    "    def purchase_price(self):\n",
    "        if self.sold_on is not None:\n",
    "            return 0,0\n",
    "        return self.base_sale_price - (0.1 * self.wheels) #沒有self.base_sale_price 這兩個需要一個child class定義\n",
    "    \n",
    "\n",
    "    def vehicle_type(self):#也沒出現\n",
    "        return self.vehicle_type"
   ]
  },
  {
   "cell_type": "code",
   "execution_count": 67,
   "metadata": {},
   "outputs": [
    {
     "data": {
      "text/plain": [
       "0"
      ]
     },
     "execution_count": 67,
     "metadata": {},
     "output_type": "execute_result"
    }
   ],
   "source": [
    "Vehicle.base_sale_price"
   ]
  },
  {
   "cell_type": "code",
   "execution_count": 69,
   "metadata": {},
   "outputs": [
    {
     "data": {
      "text/plain": [
       "<unbound method Car.sale_price>"
      ]
     },
     "execution_count": 69,
     "metadata": {},
     "output_type": "execute_result"
    }
   ],
   "source": [
    "Car.sale_price"
   ]
  },
  {
   "cell_type": "code",
   "execution_count": 49,
   "metadata": {
    "collapsed": true
   },
   "outputs": [],
   "source": [
    "class Car(Vehicle):\n",
    "    base_sale_price = 8000\n",
    "    wheels = 4\n",
    "    \n",
    "    def vehicle_type(self):\n",
    "        return 'car'"
   ]
  },
  {
   "cell_type": "code",
   "execution_count": 51,
   "metadata": {
    "collapsed": true
   },
   "outputs": [],
   "source": [
    "car = Car('mazda','M2',\"None\")"
   ]
  },
  {
   "cell_type": "code",
   "execution_count": 46,
   "metadata": {},
   "outputs": [
    {
     "data": {
      "text/plain": [
       "4"
      ]
     },
     "execution_count": 46,
     "metadata": {},
     "output_type": "execute_result"
    }
   ],
   "source": []
  },
  {
   "cell_type": "code",
   "execution_count": 80,
   "metadata": {
    "collapsed": true
   },
   "outputs": [],
   "source": [
    "from abc import ABCMeta, abstractmethod\n",
    "class Vehicle(object):\n",
    "\n",
    "    __metaclass__ = ABCMeta\n",
    "\n",
    "    base_sale_price = 0\n",
    "    wheels = 0\n",
    "\n",
    "    def __init__(self, miles, make, model, year, sold_on):\n",
    "        self.miles = miles\n",
    "        self.make = make\n",
    "        self.model = model\n",
    "        self.year = year\n",
    "        self.sold_on = sold_on\n",
    "\n",
    "    def sale_price(self):\n",
    "        \"\"\"Return the sale price for this vehicle as a float amount.\"\"\"\n",
    "        if self.sold_on is not None:\n",
    "            return 0.0  # Already sold\n",
    "        return 5000.0 * self.wheels\n",
    "\n",
    "    def purchase_price(self):\n",
    "        \"\"\"Return the price for which we would pay to purchase the vehicle.\"\"\"\n",
    "        if self.sold_on is None:\n",
    "            return 0.0  # Not yet sold\n",
    "        return self.base_sale_price - (.10 * self.miles)\n",
    "\n",
    "    @abstractmethod\n",
    "    def vehicle_type(self):\n",
    "        \"\"\"\"Return a string representing the type of vehicle this is.\"\"\"\n",
    "        pass"
   ]
  },
  {
   "cell_type": "code",
   "execution_count": 92,
   "metadata": {
    "collapsed": true
   },
   "outputs": [],
   "source": [
    "class Car(Vehicle):\n",
    "    \"\"\"A car for sale by Jeffco Car Dealership.\"\"\"\n",
    "\n",
    "    base_sale_price = 8000\n",
    "    wheels = 4\n",
    "\n",
    "    def vehicle_type(self):\n",
    "        \"\"\"\"Return a string representing the type of vehicle this is.\"\"\"\n",
    "        self.vehicle_typr = 'car'\n",
    "\n",
    "class Truck(Vehicle):\n",
    "    \"\"\"A truck for sale by Jeffco Car Dealership.\"\"\"\n",
    "\n",
    "    base_sale_price = 10000\n",
    "    wheels = 4\n",
    "\n",
    "    def vehicle_type(self):\n",
    "        \"\"\"\"Return a string representing the type of vehicle this is.\"\"\"\n",
    "        return 'truck'"
   ]
  },
  {
   "cell_type": "code",
   "execution_count": 107,
   "metadata": {
    "collapsed": true
   },
   "outputs": [],
   "source": [
    "ccc.vehicle_type()"
   ]
  },
  {
   "cell_type": "code",
   "execution_count": 103,
   "metadata": {},
   "outputs": [
    {
     "data": {
      "text/plain": [
       "'None'"
      ]
     },
     "execution_count": 103,
     "metadata": {},
     "output_type": "execute_result"
    }
   ],
   "source": [
    "ccc.sold_on"
   ]
  },
  {
   "cell_type": "code",
   "execution_count": 123,
   "metadata": {
    "collapsed": true
   },
   "outputs": [],
   "source": [
    "class Circle(object):\n",
    "    pi = 3.14\n",
    "    def __init__ (self,radius):\n",
    "        self.radius = radius\n",
    "    def area(self):\n",
    "        return (self.radius**2)*Circle.pi\n",
    "    def set_radius(self,new_radius):\n",
    "        self.radius = new_radius"
   ]
  },
  {
   "cell_type": "code",
   "execution_count": 124,
   "metadata": {
    "collapsed": true
   },
   "outputs": [],
   "source": [
    "C = Circle(5)"
   ]
  },
  {
   "cell_type": "code",
   "execution_count": 125,
   "metadata": {},
   "outputs": [
    {
     "data": {
      "text/plain": [
       "78.5"
      ]
     },
     "execution_count": 125,
     "metadata": {},
     "output_type": "execute_result"
    }
   ],
   "source": [
    "C.area()"
   ]
  },
  {
   "cell_type": "code",
   "execution_count": 127,
   "metadata": {
    "collapsed": true
   },
   "outputs": [],
   "source": [
    "C.set_radius(10)"
   ]
  },
  {
   "cell_type": "code",
   "execution_count": 129,
   "metadata": {},
   "outputs": [
    {
     "data": {
      "text/plain": [
       "314.0"
      ]
     },
     "execution_count": 129,
     "metadata": {},
     "output_type": "execute_result"
    }
   ],
   "source": [
    "C.area()"
   ]
  },
  {
   "cell_type": "code",
   "execution_count": 214,
   "metadata": {
    "collapsed": true
   },
   "outputs": [],
   "source": [
    "class Animal(object):\n",
    "    \n",
    "    specise = 'mammal'\n",
    "    \n",
    "    def __init__ (self,leg):\n",
    "        print 'animal created'\n",
    "        self.leg = leg\n",
    "        \n",
    "    def eat(self):\n",
    "        print \"food\"\n",
    "        \n",
    "    def leg(self):\n",
    "        return self.leg"
   ]
  },
  {
   "cell_type": "code",
   "execution_count": 217,
   "metadata": {},
   "outputs": [
    {
     "name": "stdout",
     "output_type": "stream",
     "text": [
      "animal created\n"
     ]
    }
   ],
   "source": [
    "Ani = Animal(4)"
   ]
  },
  {
   "cell_type": "code",
   "execution_count": 219,
   "metadata": {},
   "outputs": [
    {
     "data": {
      "text/plain": [
       "4"
      ]
     },
     "execution_count": 219,
     "metadata": {},
     "output_type": "execute_result"
    }
   ],
   "source": [
    "Ani.leg"
   ]
  },
  {
   "cell_type": "code",
   "execution_count": 235,
   "metadata": {
    "collapsed": true
   },
   "outputs": [],
   "source": [
    "class Dog(Animal):\n",
    "    \n",
    "    leg = 4\n",
    "    \n",
    "    def __init__ (self):\n",
    "        Animal.__init__(self,Ani.leg)\n",
    "        print \"Dog created\"\n",
    "    \n",
    "    def eat(self):\n",
    "        print \"dog food\"\n",
    "    \n",
    "    def bark(self):\n",
    "        print \"whoof\"\n",
    "        \n"
   ]
  },
  {
   "cell_type": "code",
   "execution_count": 236,
   "metadata": {},
   "outputs": [
    {
     "name": "stdout",
     "output_type": "stream",
     "text": [
      "animal created\n",
      "Dog created\n"
     ]
    }
   ],
   "source": [
    "D = Dog()"
   ]
  },
  {
   "cell_type": "code",
   "execution_count": 237,
   "metadata": {},
   "outputs": [
    {
     "name": "stdout",
     "output_type": "stream",
     "text": [
      "dog food\n"
     ]
    }
   ],
   "source": [
    "D.eat()"
   ]
  },
  {
   "cell_type": "code",
   "execution_count": 238,
   "metadata": {},
   "outputs": [
    {
     "name": "stdout",
     "output_type": "stream",
     "text": [
      "whoof\n"
     ]
    }
   ],
   "source": [
    "D.bark()"
   ]
  },
  {
   "cell_type": "code",
   "execution_count": 239,
   "metadata": {},
   "outputs": [
    {
     "data": {
      "text/plain": [
       "4"
      ]
     },
     "execution_count": 239,
     "metadata": {},
     "output_type": "execute_result"
    }
   ],
   "source": [
    "D.leg"
   ]
  },
  {
   "cell_type": "code",
   "execution_count": 1,
   "metadata": {
    "collapsed": true
   },
   "outputs": [],
   "source": [
    "import pptx"
   ]
  },
  {
   "cell_type": "code",
   "execution_count": 3,
   "metadata": {},
   "outputs": [
    {
     "data": {
      "text/plain": [
       "<module 'pptx.presentation' from '/Users/weichien/anaconda/lib/python2.7/site-packages/pptx/presentation.pyc'>"
      ]
     },
     "execution_count": 3,
     "metadata": {},
     "output_type": "execute_result"
    }
   ],
   "source": [
    "pptx.presentation"
   ]
  },
  {
   "cell_type": "code",
   "execution_count": null,
   "metadata": {
    "collapsed": true
   },
   "outputs": [],
   "source": []
  }
 ],
 "metadata": {
  "kernelspec": {
   "display_name": "Python 3",
   "language": "python",
   "name": "python3"
  },
  "language_info": {
   "codemirror_mode": {
    "name": "ipython",
    "version": 3
   },
   "file_extension": ".py",
   "mimetype": "text/x-python",
   "name": "python",
   "nbconvert_exporter": "python",
   "pygments_lexer": "ipython3",
   "version": "3.6.1"
  }
 },
 "nbformat": 4,
 "nbformat_minor": 2
}
