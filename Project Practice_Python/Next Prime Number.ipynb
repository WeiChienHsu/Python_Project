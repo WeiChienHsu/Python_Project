{
 "cells": [
  {
   "cell_type": "markdown",
   "metadata": {},
   "source": [
    "Next Prime Number — Have the program find prime numbers until the user chooses to stop asking for the next one."
   ]
  },
  {
   "cell_type": "code",
   "execution_count": 7,
   "metadata": {
    "collapsed": true
   },
   "outputs": [],
   "source": [
    "def is_prime(num):\n",
    "    if num == 2:\n",
    "        return True\n",
    "    \n",
    "    for n in range(2,num):\n",
    "        if num % n == 0:\n",
    "            return False\n",
    "    \n",
    "    return True\n",
    "    \n",
    "            "
   ]
  },
  {
   "cell_type": "code",
   "execution_count": 9,
   "metadata": {},
   "outputs": [],
   "source": [
    "def next_prime():\n",
    "    n = 2\n",
    "    while n:\n",
    "        if is_prime(n):\n",
    "            yield (n)\n",
    "            n +=1\n",
    "        else:\n",
    "            n +=1"
   ]
  },
  {
   "cell_type": "code",
   "execution_count": 10,
   "metadata": {},
   "outputs": [],
   "source": [
    "def main():\n",
    "    current_prime = next_prime()\n",
    "    while True:\n",
    "        ans = input('do you wanna know the next prime: y/n')\n",
    "        if ans == 'y':\n",
    "            print (next(current_prime))\n",
    "\n",
    "        elif ans =='n':\n",
    "            print(\"thanks\")\n",
    "            break\n",
    "\n",
    "            "
   ]
  },
  {
   "cell_type": "code",
   "execution_count": null,
   "metadata": {
    "collapsed": true
   },
   "outputs": [],
   "source": [
    "main()"
   ]
  },
  {
   "cell_type": "markdown",
   "metadata": {},
   "source": [
    "Change Return Program - The user enters a cost and then the amount of money given. The program will figure out the change and the number of quarters, dimes, nickels, pennies needed for the change"
   ]
  },
  {
   "cell_type": "code",
   "execution_count": 26,
   "metadata": {
    "collapsed": true
   },
   "outputs": [],
   "source": [
    "def money_change(num):\n",
    "    print ('you get %s quarters'%(int(num/0.25)))\n",
    "    \n",
    "    num = num - int(num/0.25)*0.25\n",
    "    \n",
    "    print ('you get %s dime'%(int(num/0.1)))\n",
    "    \n",
    "    num = num - int(num/0.1)*0.1\n",
    "    \n",
    "    print ('you get %s dime'%(int(num/0.05)))\n",
    "    \n",
    "    num = num - int(num/0.05)*0.05\n",
    "    \n",
    "    print ('you get %s dime'%(int(num/0.01)))\n",
    "    \n",
    "    num = num - int(num/0.1)*0.01"
   ]
  },
  {
   "cell_type": "code",
   "execution_count": 29,
   "metadata": {},
   "outputs": [
    {
     "name": "stdout",
     "output_type": "stream",
     "text": [
      "you get 6 quarters\n",
      "you get 1 dime\n",
      "you get 1 dime\n",
      "you get 2 dime\n"
     ]
    }
   ],
   "source": [
    "money_change(1.68)"
   ]
  },
  {
   "cell_type": "code",
   "execution_count": 70,
   "metadata": {},
   "outputs": [],
   "source": [
    "def money_change_m(num):\n",
    "    for n in [0.25,0.1,0.05,0.01]:\n",
    "        yield 'Please give him %s * %s'%(int(num/n),n)\n",
    "        num = num - (int(num/n))*n"
   ]
  },
  {
   "cell_type": "code",
   "execution_count": 112,
   "metadata": {},
   "outputs": [],
   "source": [
    "def check():\n",
    "    num = float(input('how much you received:'))\n",
    "    current_change = money_change_m(num)\n",
    "    n=4\n",
    "    while n>0:           \n",
    "        ans = input('tell the machine gonna move on: y/n')\n",
    "        if ans == 'y':\n",
    "            print (next(current_change))\n",
    "            n -= 1\n"
   ]
  },
  {
   "cell_type": "code",
   "execution_count": null,
   "metadata": {
    "collapsed": true
   },
   "outputs": [],
   "source": [
    "check()"
   ]
  },
  {
   "cell_type": "markdown",
   "metadata": {},
   "source": [
    "Work out the distance (user specified units) given two cities using haversine equation\n"
   ]
  },
  {
   "cell_type": "code",
   "execution_count": 1,
   "metadata": {},
   "outputs": [],
   "source": [
    "from pygeocoder import Geocoder\n",
    "import numpy as np\n",
    "import sys"
   ]
  },
  {
   "cell_type": "code",
   "execution_count": 2,
   "metadata": {
    "collapsed": true
   },
   "outputs": [],
   "source": [
    "def get_latlongs(location):\n",
    "    return Geocoder.geocode(location)[0].coordinates"
   ]
  },
  {
   "cell_type": "code",
   "execution_count": 4,
   "metadata": {},
   "outputs": [],
   "source": [
    "def get_distance(locA, locB): \n",
    "    #use haversine forumla(copy from the internet)\n",
    "    earth_rad = 6371.0\n",
    "    dlat = np.deg2rad(locB[0] - locA[0])\n",
    "    dlon = np.deg2rad(locB[1] - locA[1])\n",
    "    a = np.sin(dlat/2) * np.sin(dlat/2) + \\\n",
    "        np.cos(np.deg2rad(locA[0])) * np.cos(np.deg2rad(locB[0])) * \\\n",
    "        np.sin(dlon/2) * np.sin(dlon/2) \n",
    "    c = 2 * np.arctan2(np.sqrt(a), np.sqrt(1-a))\n",
    "    return earth_rad * c "
   ]
  },
  {
   "cell_type": "code",
   "execution_count": 5,
   "metadata": {
    "collapsed": true
   },
   "outputs": [],
   "source": [
    "def convert_km_to_miles(km):\n",
    "    miles_per_km = 0.621371192\n",
    "    return km * miles_per_km"
   ]
  },
  {
   "cell_type": "code",
   "execution_count": 10,
   "metadata": {},
   "outputs": [],
   "source": [
    "-"
   ]
  },
  {
   "cell_type": "code",
   "execution_count": 11,
   "metadata": {},
   "outputs": [
    {
     "name": "stdout",
     "output_type": "stream",
     "text": [
      "Type the first City: dallas\n",
      "Type the second city: plano\n",
      "Type distance units (miles or kilometers): m\n",
      "17.7397448505  miles\n"
     ]
    }
   ],
   "source": [
    "count_distance()"
   ]
  },
  {
   "cell_type": "code",
   "execution_count": null,
   "metadata": {
    "collapsed": true
   },
   "outputs": [],
   "source": []
  }
 ],
 "metadata": {
  "kernelspec": {
   "display_name": "Python 3",
   "language": "python",
   "name": "python3"
  },
  "language_info": {
   "codemirror_mode": {
    "name": "ipython",
    "version": 3
   },
   "file_extension": ".py",
   "mimetype": "text/x-python",
   "name": "python",
   "nbconvert_exporter": "python",
   "pygments_lexer": "ipython3",
   "version": "3.6.1"
  }
 },
 "nbformat": 4,
 "nbformat_minor": 2
}
