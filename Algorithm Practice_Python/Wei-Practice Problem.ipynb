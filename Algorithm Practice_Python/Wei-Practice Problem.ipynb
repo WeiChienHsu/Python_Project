{
 "cells": [
  {
   "cell_type": "markdown",
   "metadata": {},
   "source": [
    "1. 有一個列表，其中包括 10 個元素，例如這個列表是 [1, 2, 3, 4, 5, 6, 7, 8, 9, 0],要求將列表中的每個元素一次向前移動一 個位置，第一個元素到列表的最後，然後輸出這個列表。最終樣 式是 [2, 3, 4, 5, 6, 7, 8, 9, 0, 1]"
   ]
  },
  {
   "cell_type": "code",
   "execution_count": 23,
   "metadata": {
    "collapsed": true
   },
   "outputs": [],
   "source": [
    "l1 = [1, 2, 3, 4, 5, 6, 7, 8, 9, 0]"
   ]
  },
  {
   "cell_type": "code",
   "execution_count": 26,
   "metadata": {
    "collapsed": true
   },
   "outputs": [],
   "source": [
    "def change_list(l):\n",
    "    a = l1[0]\n",
    "    l.remove(l1[0])\n",
    "    l.append(a)\n",
    "    return l"
   ]
  },
  {
   "cell_type": "code",
   "execution_count": 27,
   "metadata": {},
   "outputs": [
    {
     "data": {
      "text/plain": [
       "[2, 3, 4, 5, 6, 7, 8, 9, 0, 1]"
      ]
     },
     "execution_count": 27,
     "metadata": {},
     "output_type": "execute_result"
    }
   ],
   "source": [
    "change_list(l1)"
   ]
  },
  {
   "cell_type": "markdown",
   "metadata": {},
   "source": [
    "2.\n",
    "在數學中，用 n! 來表示階乘，例如，4! =1×2×3×4 =24。 請計算 3!, 4!, 5!。請寫一個程式，讓使用者輸入 n，印出 n!"
   ]
  },
  {
   "cell_type": "code",
   "execution_count": 27,
   "metadata": {
    "collapsed": true
   },
   "outputs": [],
   "source": [
    "def cout_factoral(num):\n",
    "    k = [str(n)+'x'for n in range(1,num)] \n",
    "    print (\"\".join(k)+str(num))\n",
    "    \n",
    "    a = 1\n",
    "    for n in range(1,num+1):\n",
    "        a = a*n\n",
    "    print (a) "
   ]
  },
  {
   "cell_type": "code",
   "execution_count": 26,
   "metadata": {},
   "outputs": [
    {
     "name": "stdout",
     "output_type": "stream",
     "text": [
      "1x2x3x4x5x6x7x8\n",
      "40320\n"
     ]
    }
   ],
   "source": [
    "cout_factoral(8)"
   ]
  },
  {
   "cell_type": "markdown",
   "metadata": {},
   "source": [
    "3.\n",
    "如果將⼀句話作為⼀個字符串，那麼這個字符串中必然 會有空格（這裡只是討論英⽂），⽐如“How are you?”，但 有的時候，會在兩個單詞之間多⼤⼀個空格。現在的任務是，如 果⼀個字符串中有連續的兩個空格，請把它刪除"
   ]
  },
  {
   "cell_type": "code",
   "execution_count": 38,
   "metadata": {},
   "outputs": [],
   "source": [
    "def delete_the_space(pharse):\n",
    "    print (\" \".join(pharse.split()))"
   ]
  },
  {
   "cell_type": "code",
   "execution_count": 39,
   "metadata": {},
   "outputs": [
    {
     "name": "stdout",
     "output_type": "stream",
     "text": [
      "How are you today\n"
     ]
    }
   ],
   "source": [
    "pharse = 'How  are you  today'\n",
    "delete_the_space(pharse)"
   ]
  },
  {
   "cell_type": "markdown",
   "metadata": {},
   "source": [
    "4.\n",
    "\"Here are UPPERCASE and lowercase chars.\"\n",
    "#{'c': ['c', 'c'], 'R': ['R'], 'w': ['w'], ' ': [' ', ' ', ' ', ' ', ' '], '.': ['.'], 'n': ['n'], 'H': ['H'], 'P': ['P', 'P'], 'h': ['h'], 'S': ['S'], 'e': ['e', 'e', 'e', 'e', 'e'], 'l': ['l'], 'E': ['E', 'E'], 'U': ['U'], 'a': ['a', 'a', 'a', 'a'], 'A': ['A'], 'o': ['o'], 'C': ['C'], 'r': ['r', 'r', 'r', 'r'], 'd': ['d'], 's': ['s', 's']}"
   ]
  },
  {
   "cell_type": "markdown",
   "metadata": {
    "collapsed": true
   },
   "source": [
    "##### 不太會"
   ]
  },
  {
   "cell_type": "markdown",
   "metadata": {},
   "source": [
    "5.\n",
    "有兩個列表，分別是：a = [1,2,3,4,5]，b = [9,8,7,6,5]， 要計算這兩個列表中對應元素的和"
   ]
  },
  {
   "cell_type": "code",
   "execution_count": 103,
   "metadata": {
    "collapsed": true
   },
   "outputs": [],
   "source": [
    "def sum_in_list(a,b):\n",
    "    print_list = [i*j for (i,j) in zip(a,b)]\n",
    "    return print_list"
   ]
  },
  {
   "cell_type": "code",
   "execution_count": 104,
   "metadata": {},
   "outputs": [
    {
     "data": {
      "text/plain": [
       "[9, 16, 21, 24, 25]"
      ]
     },
     "execution_count": 104,
     "metadata": {},
     "output_type": "execute_result"
    }
   ],
   "source": [
    "a = [1,2,3,4,5]\n",
    "b = [9,8,7,6,5]\n",
    "\n",
    "sum_in_list(a,b)"
   ]
  },
  {
   "cell_type": "markdown",
   "metadata": {},
   "source": [
    "6.\n",
    "有⼀個字典 ，myinfor = {\"name\":\"qiwsir\",\"site\":\"qiwsir.github.io\",\"lang\":\"python\"}, 將這 個字典變換成 ：infor = {\"qiwsir\":\"name\",\"qiwsir.github.io\":\"site\",\"python\":\"lang\"} "
   ]
  },
  {
   "cell_type": "code",
   "execution_count": 148,
   "metadata": {
    "collapsed": true
   },
   "outputs": [],
   "source": [
    "myinfor = {\"name\":\"qiwsir\",\"site\":\"qiwsir.github.io\",\"lang\":\"python\"}"
   ]
  },
  {
   "cell_type": "code",
   "execution_count": 152,
   "metadata": {},
   "outputs": [
    {
     "data": {
      "text/plain": [
       "{'python': 'lang', 'qiwsir': 'name', 'qiwsir.github.io': 'site'}"
      ]
     },
     "execution_count": 152,
     "metadata": {},
     "output_type": "execute_result"
    }
   ],
   "source": [
    "infor = {value : key for key,value in myinfor.items()}\n",
    "infor\n",
    "# 如何排序，Dictionary沒有順序"
   ]
  },
  {
   "cell_type": "markdown",
   "metadata": {},
   "source": [
    "7.\n",
    "按照下⾯的要求實現對列表的操作，產⽣⼀個列表，其 中有40個元素，每個元素是0到100的⼀個隨機整數如果這個列表 中的數據代表著某個班級40⼈的分數，請計算成績低於平均分的 學⽣⼈數，並輸出對上⾯的列表元素從⼤到⼩排序"
   ]
  },
  {
   "cell_type": "code",
   "execution_count": 189,
   "metadata": {},
   "outputs": [],
   "source": [
    "import random"
   ]
  },
  {
   "cell_type": "code",
   "execution_count": 262,
   "metadata": {},
   "outputs": [],
   "source": [
    "def score_list(num):\n",
    "    score_add = 0\n",
    "    score_list = []\n",
    "    value = list(range(101))\n",
    "    score = random.sample(value,num)\n",
    "    for s in score:\n",
    "        score_add += s\n",
    "        score_list.append(s)\n",
    "    socre_sort = score_list.sort()\n",
    "    print ('There are %s students in class'%(num))\n",
    "    print ('Average Score is %s'%(score_add/num))\n",
    "    print (score_list)"
   ]
  },
  {
   "cell_type": "code",
   "execution_count": 263,
   "metadata": {},
   "outputs": [
    {
     "name": "stdout",
     "output_type": "stream",
     "text": [
      "There are 40 students in class\n",
      "Average Score is 56.875\n",
      "[7, 10, 14, 18, 20, 21, 22, 25, 28, 33, 40, 41, 42, 47, 48, 51, 53, 54, 55, 57, 58, 59, 61, 62, 64, 66, 71, 73, 80, 83, 84, 86, 87, 88, 89, 91, 93, 97, 98, 99]\n"
     ]
    }
   ],
   "source": [
    "score_list(40)"
   ]
  },
  {
   "cell_type": "markdown",
   "metadata": {},
   "source": [
    "承上題，想要對分數進⾏調整，不及格的⼈將原始分數 開根號乘以⼗（但最⾼不可以超過 60 分），及格者不變"
   ]
  },
  {
   "cell_type": "code",
   "execution_count": 300,
   "metadata": {},
   "outputs": [],
   "source": [
    "def score_list_change(num):\n",
    "    score_add = 0\n",
    "    score_list = []\n",
    "    value = list(range(101))\n",
    "    score = random.sample(value,num)\n",
    "    for s in score:\n",
    "        if s >= 60:\n",
    "            score_list.append(s)\n",
    "            score_add += s\n",
    "            continue\n",
    "        else:\n",
    "            s = (s**(1/2))*10\n",
    "            if s >= 60:\n",
    "                s = 60\n",
    "                score_list.append(s)\n",
    "                score_add += s\n",
    "            else:\n",
    "                score_list.append(s)\n",
    "                score_add += s\n",
    "    socre_sort = score_list.sort()\n",
    "    print ('There are %s students in class'%(num))\n",
    "    print ('Average Score is %s'%(score_add/num))\n",
    "    print (score_list)"
   ]
  },
  {
   "cell_type": "code",
   "execution_count": 301,
   "metadata": {},
   "outputs": [
    {
     "name": "stdout",
     "output_type": "stream",
     "text": [
      "There are 40 students in class\n",
      "Average Score is 61.93531526149809\n",
      "[0.0, 14.142135623730951, 26.457513110645905, 36.05551275463989, 40.0, 41.23105625617661, 42.426406871192846, 43.58898943540674, 46.9041575982343, 50.0, 52.91502622129181, 55.67764362830022, 56.568542494923804, 57.445626465380286, 60, 60, 60, 60, 60, 60, 60, 60, 60, 60, 61, 62, 66, 72, 74, 75, 79, 83, 86, 87, 89, 91, 94, 96, 99, 100]\n"
     ]
    }
   ],
   "source": [
    "score_list_change(40)"
   ]
  },
  {
   "cell_type": "markdown",
   "metadata": {},
   "source": [
    "8.\n",
    "寫⼀個計算平⽅的函式"
   ]
  },
  {
   "cell_type": "code",
   "execution_count": 153,
   "metadata": {
    "collapsed": true
   },
   "outputs": [],
   "source": [
    "def double(num):\n",
    "    return num**2"
   ]
  },
  {
   "cell_type": "code",
   "execution_count": 154,
   "metadata": {},
   "outputs": [
    {
     "data": {
      "text/plain": [
       "15129"
      ]
     },
     "execution_count": 154,
     "metadata": {},
     "output_type": "execute_result"
    }
   ],
   "source": [
    "double(123)"
   ]
  },
  {
   "cell_type": "markdown",
   "metadata": {},
   "source": [
    "寫⼀個計算平⽅根的函式"
   ]
  },
  {
   "cell_type": "code",
   "execution_count": 156,
   "metadata": {
    "collapsed": true
   },
   "outputs": [],
   "source": [
    "def Square(num):\n",
    "    return num**(1/2)"
   ]
  },
  {
   "cell_type": "code",
   "execution_count": 157,
   "metadata": {},
   "outputs": [
    {
     "data": {
      "text/plain": [
       "12.0"
      ]
     },
     "execution_count": 157,
     "metadata": {},
     "output_type": "execute_result"
    }
   ],
   "source": [
    "Square(144)"
   ]
  },
  {
   "cell_type": "markdown",
   "metadata": {},
   "source": [
    "寫⼀個回傳⼀次⽅，⼆次⽅，…，到指定次⽅的函式"
   ]
  },
  {
   "cell_type": "code",
   "execution_count": 159,
   "metadata": {},
   "outputs": [],
   "source": [
    "def fun_send_back(num,time):\n",
    "    for n in range(1,time+1):\n",
    "        print (num**n)"
   ]
  },
  {
   "cell_type": "code",
   "execution_count": 160,
   "metadata": {},
   "outputs": [
    {
     "name": "stdout",
     "output_type": "stream",
     "text": [
      "10\n",
      "100\n",
      "1000\n",
      "10000\n",
      "100000\n"
     ]
    }
   ],
   "source": [
    "fun_send_back(10,5)"
   ]
  },
  {
   "cell_type": "markdown",
   "metadata": {},
   "source": [
    "9.\n",
    "每次考試之後，教師都要統計考試成績，⼀般包括：平 均分，對所有⼈按成績從⾼到低排隊，誰成績最好，誰成績最差 還有其它的統計項，暫且不 為了簡化，以字典形式表⽰考試成績 記錄，例如：{“zhangsan”：90，“lisi” ：78， “wangermazi”：39}，當然，也許不能這三項，可能還有， 每個⽼師所在處理的內容稍有不同，因此字典裡的鍵值對也不⼀ 樣。怎麼做？有幾種可能要考慮到：最⾼分或者最低分，可能有 ⼈並列。要實現不同⾧度的字典作為輸⼊值。輸出結果中，除了 平均分，其它的都要有姓名和分數兩項，否則都匿名了，怎麼刺 激學渣，表揚學霸呢"
   ]
  },
  {
   "cell_type": "code",
   "execution_count": null,
   "metadata": {},
   "outputs": [],
   "source": []
  },
  {
   "cell_type": "code",
   "execution_count": null,
   "metadata": {},
   "outputs": [],
   "source": []
  },
  {
   "cell_type": "markdown",
   "metadata": {},
   "source": [
    "10.\n",
    "建⽴⼀個 Student 的類別，要包含姓名、性別、年齡， 也要可以修改資料。 "
   ]
  },
  {
   "cell_type": "code",
   "execution_count": 182,
   "metadata": {},
   "outputs": [],
   "source": [
    "class Student(object):\n",
    "    def __init__ (self,name,age,grade):\n",
    "        self.name = name\n",
    "        self.age = age\n",
    "        self.grade = grade\n",
    "    def graded(self):\n",
    "        if self.grade >= 80:\n",
    "            print (self.name + ', you did a greart job')\n",
    "        else:\n",
    "            print ('go home! and study')"
   ]
  },
  {
   "cell_type": "code",
   "execution_count": 187,
   "metadata": {},
   "outputs": [],
   "source": [
    "k = Student(\"Kevin\",18,83)"
   ]
  },
  {
   "cell_type": "code",
   "execution_count": 188,
   "metadata": {},
   "outputs": [
    {
     "name": "stdout",
     "output_type": "stream",
     "text": [
      "Kevin, you did a greart job\n"
     ]
    }
   ],
   "source": [
    "k.graded()"
   ]
  },
  {
   "cell_type": "markdown",
   "metadata": {},
   "source": [
    "11.利⽤上述建⽴的類別，宣告幾個物件，並放到⼀個 dict 保存"
   ]
  },
  {
   "cell_type": "code",
   "execution_count": null,
   "metadata": {
    "collapsed": true
   },
   "outputs": [],
   "source": []
  }
 ],
 "metadata": {
  "kernelspec": {
   "display_name": "Python 3",
   "language": "python",
   "name": "python3"
  },
  "language_info": {
   "codemirror_mode": {
    "name": "ipython",
    "version": 3
   },
   "file_extension": ".py",
   "mimetype": "text/x-python",
   "name": "python",
   "nbconvert_exporter": "python",
   "pygments_lexer": "ipython3",
   "version": "3.6.1"
  }
 },
 "nbformat": 4,
 "nbformat_minor": 2
}
