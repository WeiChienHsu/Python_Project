{
 "cells": [
  {
   "cell_type": "markdown",
   "metadata": {},
   "source": [
    "## Problem 1 : The goal in this code problem is to implement the binary search algorithm.\n",
    "### Input Format: The  rst line of the input contains an integer 𝑛 and a sequence 𝑎0 < 𝑎1 < . . . < 𝑎𝑛−1 of 𝑛 pairwise distinct positive integers in increasing order. The next line contains an integer 𝑘 and 𝑘 positive integers 𝑏0, 𝑏1, . . . , 𝑏𝑘−1.\n",
    "### OutputFormat. For all 𝑖 from 0 to 𝑘−1,out put an index 0≤𝑗≤𝑛−1 such that 𝑎𝑗 =𝑏𝑖 or−1 if there is no such index."
   ]
  },
  {
   "cell_type": "markdown",
   "metadata": {},
   "source": [
    "#### Input:\n",
    "#### 5 1 5 8 12 13 \n",
    "#### 5 8 1 23 1 11\n",
    "#### Output:\n",
    "#### 2 0 -1 0 -1\n",
    "\n",
    "Since 8  = a2, 1 = a0 , 23 without , 1 = a0, 11 without "
   ]
  },
  {
   "cell_type": "code",
   "execution_count": 3,
   "metadata": {},
   "outputs": [
    {
     "name": "stdout",
     "output_type": "stream",
     "text": [
      "5 1 5 8 12 13 5 8 1 23 1 11\n",
      "2 0 -1 0 -1 "
     ]
    }
   ],
   "source": [
    "# Uses python3\n",
    "import sys\n",
    "\n",
    "def binary_search(a, x):\n",
    "    low, high = 0, len(a)-1\n",
    "    \n",
    "    while low <= high:\n",
    "        mid = int (low + (high-low)/2)\n",
    "        if x == a[mid]:\n",
    "            return (mid)\n",
    "        elif x > a[mid]:\n",
    "            low = mid + 1\n",
    "        else:\n",
    "            high = mid -1\n",
    "    return (-1)\n",
    "\n",
    "\n",
    "if __name__ == '__main__':\n",
    "    inpt = input()\n",
    "    data = list(map(int, inpt.split()))\n",
    "    n = data[0]\n",
    "    m = data[n + 1]\n",
    "    a = data[1 : n + 1] #first list [1,5,8,12,13]\n",
    "    for x in data[n + 2:]: # second list to the for loop 8,1,23,1,11\n",
    "        # replace with the call to binary_search when implemented\n",
    "        print(binary_search(a, x), end = ' ')\n",
    "\n"
   ]
  },
  {
   "cell_type": "markdown",
   "metadata": {},
   "source": [
    "## Problem2 Finding a Majority Elemen\n",
    "### Given a sequence of elements 𝑎1, 𝑎2, . . . , 𝑎𝑛, you would like to check whether it contains an element that appears more than 𝑛/2 times. A naive way to do this is the following.\n",
    "\n",
    "#### Input Format. The  rst line contains an integer 𝑛, the next one contains a sequence of 𝑛 non-negative integers 𝑎0, 𝑎1, . . . , 𝑎𝑛−1.\n",
    "#### Output Format. Output 1 if the sequence contains an element that appears strictly more than 𝑛/2 times, and 0 otherwise."
   ]
  },
  {
   "cell_type": "markdown",
   "metadata": {},
   "source": [
    "##### Input  5 2 3 9 2 2\n",
    "##### output 1"
   ]
  },
  {
   "cell_type": "code",
   "execution_count": 76,
   "metadata": {},
   "outputs": [
    {
     "name": "stdout",
     "output_type": "stream",
     "text": [
      "4 1 2 2 3\n",
      "0\n"
     ]
    }
   ],
   "source": [
    "# Uses python3\n",
    "import sys\n",
    "\n",
    "def get_majority_element(a,n): #a = [1,2,3,1] #left=0 #right=3\n",
    "    \n",
    "    maxi = max(a)\n",
    "    count = {}\n",
    "    \n",
    "    for num in a:\n",
    "        count[num] = 0\n",
    "    \n",
    "    for num in a:\n",
    "        count[num] += 1\n",
    "    \n",
    "    i=0\n",
    "    for point in a:\n",
    "        if count[point] > n//2:\n",
    "            return (1)\n",
    "    \n",
    "    return 0\n",
    "    \n",
    "\n",
    "if __name__ == '__main__':\n",
    "    inpt = input()\n",
    "    n, *a = list(map(int, inpt.split())) #n=4, a = [1,2,3,1]\n",
    "    result = get_majority_element(a,n)\n",
    "    print(result)\n"
   ]
  },
  {
   "cell_type": "markdown",
   "metadata": {},
   "source": [
    "## 3 Problem: Improving Quick Sort"
   ]
  },
  {
   "cell_type": "markdown",
   "metadata": {},
   "source": [
    "### The goal in this problem is to redesign a given implementation of the random- ized quick sort algorithm so that it works fast even on sequences containing many equal elements."
   ]
  },
  {
   "cell_type": "code",
   "execution_count": 84,
   "metadata": {},
   "outputs": [
    {
     "name": "stdout",
     "output_type": "stream",
     "text": [
      "5 2 3 9 2 2\n",
      "2 2 2 3 9 "
     ]
    }
   ],
   "source": [
    "# Uses python3\n",
    "import sys\n",
    "\n",
    "def quick_sort_3(myList, start, end):\n",
    "    \n",
    "    if start < end:\n",
    "        # partition the list\n",
    "        pivot = partition(myList, start, end)\n",
    "        # sort both halves\n",
    "        quick_sort_3(myList, start, pivot-1)\n",
    "        quick_sort_3(myList, pivot+1, end)\n",
    "    return myList\n",
    "\n",
    "def partition(myList, start, end):\n",
    "    pivot = myList[start]\n",
    "    left = start+1\n",
    "    right = end\n",
    "    done = False\n",
    "    while not done:\n",
    "        while left <= right and myList[left] <= pivot:\n",
    "            left = left + 1\n",
    "        while myList[right] >= pivot and right >=left:\n",
    "            right = right -1\n",
    "        # stop until they both meet some issues\n",
    "        \n",
    "        if right < left:\n",
    "            done= True\n",
    "        # then need to swap right and pivot value\n",
    "        \n",
    "        else:\n",
    "            # swap places\n",
    "            temp=myList[left]\n",
    "            myList[left]=myList[right]\n",
    "            myList[right]=temp\n",
    "            \n",
    "    # swap start with myList[right]\n",
    "    temp=myList[start]\n",
    "    myList[start]=myList[right]\n",
    "    myList[right]=temp\n",
    "    return right\n",
    "\n",
    "\n",
    "if __name__ == '__main__':\n",
    "    inpt = input()\n",
    "    n, *a = list(map(int, inpt.split()))\n",
    "    for result in quick_sort_3(a, 0, n - 1):\n",
    "        print (result,end=' ')\n",
    "\n"
   ]
  },
  {
   "cell_type": "code",
   "execution_count": 79,
   "metadata": {},
   "outputs": [
    {
     "name": "stdout",
     "output_type": "stream",
     "text": [
      "5 2 3 9 2\n",
      "[2, 3, 9, 2]\n"
     ]
    }
   ],
   "source": [
    "if __name__ == '__main__':\n",
    "    inpt = input()\n",
    "    n, *a = list(map(int, inpt.split()))\n",
    "    print(a)"
   ]
  },
  {
   "cell_type": "code",
   "execution_count": null,
   "metadata": {
    "collapsed": true
   },
   "outputs": [],
   "source": []
  }
 ],
 "metadata": {
  "kernelspec": {
   "display_name": "Python 3",
   "language": "python",
   "name": "python3"
  },
  "language_info": {
   "codemirror_mode": {
    "name": "ipython",
    "version": 3
   },
   "file_extension": ".py",
   "mimetype": "text/x-python",
   "name": "python",
   "nbconvert_exporter": "python",
   "pygments_lexer": "ipython3",
   "version": "3.6.1"
  }
 },
 "nbformat": 4,
 "nbformat_minor": 2
}
