{
 "cells": [
  {
   "cell_type": "markdown",
   "metadata": {},
   "source": [
    "## Greedy Algorithm Practice 0823"
   ]
  },
  {
   "cell_type": "markdown",
   "metadata": {},
   "source": [
    "###  1. 加油站問題：從A到B，中間有n個加油站，每次加油後，可跑L公里，請問最少需要加多少次油？\n",
    "\n",
    "####  From the A stop to the B stop, there are n numbers of filling stop located in the middle. After each refilling, the car could run for L miles. To reach the destionation B stop, how many times at least the car need to be refilled?\n"
   ]
  },
  {
   "cell_type": "code",
   "execution_count": 14,
   "metadata": {},
   "outputs": [
    {
     "name": "stdout",
     "output_type": "stream",
     "text": [
      "Refill at 375\n",
      "Refill at 750\n",
      "2\n"
     ]
    }
   ],
   "source": [
    "x = [0,200,375,550,750,950]\n",
    "L = 400 #distance with full tank\n",
    "n = 4 #station\n",
    "\n",
    "current_loc = 0\n",
    "number_Refill = 0\n",
    "\n",
    "while current_loc <= n:\n",
    "    last_loc = current_loc\n",
    "    while current_loc <= n and x[current_loc+1]-x[last_loc]<= L:\n",
    "        current_loc += 1\n",
    "    \n",
    "    if x[current_loc] < x[len(x)-1]:\n",
    "        print('Refill at %s'%(x[current_loc]))\n",
    "    \n",
    "    \n",
    "    if current_loc == last_loc:\n",
    "        print('impossible')\n",
    "    \n",
    "    if current_loc <=n:\n",
    "        number_Refill += 1\n",
    "\n",
    "print (number_Refill)"
   ]
  },
  {
   "cell_type": "markdown",
   "metadata": {},
   "source": [
    "#### 2.包包問題：一個最大能容納50公斤的包包，現在一共有三樣價值與重量不同的東西要放入其中，請問放置後的最大價值為多少？ \n",
    "\n",
    "##### A Farctional Knapsack problem: With 50 kg capacity, there's a bag and three different items with differnet weights and values. Try to put the highest values into the bag within the limitation of the bag."
   ]
  },
  {
   "cell_type": "code",
   "execution_count": 25,
   "metadata": {
    "collapsed": true
   },
   "outputs": [],
   "source": [
    "def find_optinal_value(capacity,values,weights):\n",
    "    value = 0\n",
    "    valuePerWeight = sorted([[values/weights,weights] for values,weights in zip(values,weights) ],reverse=True)\n",
    "\n",
    "    while capacity >0 and valuePerWeight:\n",
    "        maxi = 0\n",
    "        idx = None\n",
    "        for i,item in enumerate(valuePerWeight):        \n",
    "            if item[1]>0 and item[0]>maxi:\n",
    "                maxi = item[0]\n",
    "                idx = i\n",
    "                \n",
    "        if idx is None:\n",
    "            return 0.\n",
    "        \n",
    "        w = valuePerWeight[idx][1]\n",
    "        v_per = valuePerWeight[idx][0]\n",
    "    \n",
    "        if w >= capacity:\n",
    "            value += v_per*capacity\n",
    "            capacity = 0\n",
    "            return value\n",
    "    \n",
    "        else:\n",
    "            value += v_per*w\n",
    "            capacity -= w\n",
    "    \n",
    "        valuePerWeight.pop(idx)\n",
    "            "
   ]
  },
  {
   "cell_type": "code",
   "execution_count": 34,
   "metadata": {},
   "outputs": [
    {
     "name": "stdout",
     "output_type": "stream",
     "text": [
      "180.0\n",
      "180.0000000000\n"
     ]
    }
   ],
   "source": [
    "capacity = 50\n",
    "values = [60,100,120]\n",
    "weights = [20,50,30]\n",
    "\n",
    "\n",
    "find_optinal_value(capacity,values,weights)"
   ]
  },
  {
   "cell_type": "markdown",
   "metadata": {},
   "source": [
    "#### 3.換錢問題：將錢換成10,5,1 output一共需要多少硬幣\n",
    "\n",
    "##### Change the money into coins with coin, penny and cent and output the total amounts."
   ]
  },
  {
   "cell_type": "code",
   "execution_count": 3,
   "metadata": {},
   "outputs": [
    {
     "name": "stdout",
     "output_type": "stream",
     "text": [
      "44\n",
      "換44的金額時需要8個硬幣\n"
     ]
    }
   ],
   "source": [
    "num = int(input())\n",
    "ori_num = num\n",
    "ans = 0\n",
    "for n in [10,5,1]:\n",
    "    ans += int(num/n)\n",
    "    num = num%n\n",
    "\n",
    "print(\"換%s的金額時需要%s個硬幣\"%(ori_num,ans))\n",
    "    "
   ]
  },
  {
   "cell_type": "markdown",
   "metadata": {},
   "source": [
    "#### 4.裝包包問題：\n",
    "The first line of the input contains the number 𝑛 of items and the capacity 𝑊 of a knapsack. The next 𝑛 lines de ne the values and weights of the items. The 𝑖-th line contains integers 𝑣𝑖 and 𝑤𝑖—the value and the weight of 𝑖-th item, respectively."
   ]
  },
  {
   "cell_type": "code",
   "execution_count": 6,
   "metadata": {
    "collapsed": true
   },
   "outputs": [],
   "source": [
    "def find_optinal_value(capacity,weights,values):\n",
    "    value = 0\n",
    "    valuePerWeight = sorted([[values/weights,weights] for values,weights in zip(values,weights) ],reverse=True)\n",
    "\n",
    "    while capacity >0 and valuePerWeight:\n",
    "        maxi = 0\n",
    "        idx = None\n",
    "        for i,item in enumerate(valuePerWeight):        \n",
    "            if item[1]>0 and item[0]>maxi:\n",
    "                maxi = item[0]\n",
    "                idx = i\n",
    "                \n",
    "        if idx is None:  ## 這行不太清楚為什麼要寫，但如果不寫的話壓力測試不會過\n",
    "            return 0\n",
    "        \n",
    "        w = valuePerWeight[idx][1]\n",
    "        v_per = valuePerWeight[idx][0]\n",
    "    \n",
    "        if w >= capacity:\n",
    "            value += v_per*capacity\n",
    "            capacity = 0\n",
    "            return value\n",
    "    \n",
    "        else:\n",
    "            value += v_per*w\n",
    "            capacity -= w\n",
    "    \n",
    "        valuePerWeight.pop(idx)\n",
    "\n",
    "    return value"
   ]
  },
  {
   "cell_type": "code",
   "execution_count": 7,
   "metadata": {},
   "outputs": [
    {
     "name": "stdout",
     "output_type": "stream",
     "text": [
      "33 31 32 42 44\n",
      "23.6190\n"
     ]
    }
   ],
   "source": [
    "if __name__ == \"__main__\":\n",
    "    data = list(map(int,input().split()))\n",
    "    n, capacity = data[0:2]\n",
    "    values = data[2:(2 * n + 2):2]\n",
    "    weights = data[3:(2 * n + 2):2]\n",
    "    opt_value = find_optinal_value(capacity, weights, values)\n",
    "    print(\"{:.4f}\".format(opt_value))"
   ]
  },
  {
   "cell_type": "markdown",
   "metadata": {},
   "source": [
    "#### 5.從兩數列中找尋相乘最大的解：\n",
    "\n",
    "You have 𝑛 ads to place on a popular Internet page. For each ad, you know how much is the advertiser willing to pay for one click on this ad. You have set up 𝑛 slots on your page and estimated the expected number of clicks per day for each slot. Now, your goal is to distribute the ads among the slots to maximize the total revenue."
   ]
  },
  {
   "cell_type": "code",
   "execution_count": 23,
   "metadata": {
    "collapsed": true
   },
   "outputs": [],
   "source": [
    "def max_dot_product(a, b):\n",
    "    a.sort()\n",
    "    b.sort()\n",
    "    res = 0\n",
    "    for i in range(len(a)):\n",
    "        res += a[i] * b[i]\n",
    "    return res\n",
    "\n"
   ]
  },
  {
   "cell_type": "code",
   "execution_count": 29,
   "metadata": {},
   "outputs": [
    {
     "name": "stdout",
     "output_type": "stream",
     "text": [
      "2 -4 -5 5 3 -4 -4\n",
      "36\n"
     ]
    }
   ],
   "source": [
    "if __name__ == '__main__':\n",
    "    k = input()\n",
    "    data = list(map(int, k.split()))\n",
    "    n = data[0]\n",
    "    a = data[1:(n + 1)]\n",
    "    b = data[(n + 1):]\n",
    "    print(max_dot_product(a, b))"
   ]
  },
  {
   "cell_type": "markdown",
   "metadata": {},
   "source": [
    "#### 6 Problem: Collecting Signatures\n",
    "\n",
    "\n",
    "You are responsible for collecting signatures from all tenants of a certain build- ing. For each tenant, you know a period of time when he or she is at home. You would like to collect all signatures by visiting the building as few times as possible.\n",
    "The mathematical model for this problem is the following. You are given a set of segments on a line and your goal is to mark as few points on a line as possible so that each segment contains at least one marked point."
   ]
  },
  {
   "cell_type": "code",
   "execution_count": null,
   "metadata": {
    "collapsed": true
   },
   "outputs": [],
   "source": [
    "#待解"
   ]
  }
 ],
 "metadata": {
  "kernelspec": {
   "display_name": "Python 3",
   "language": "python",
   "name": "python3"
  },
  "language_info": {
   "codemirror_mode": {
    "name": "ipython",
    "version": 3
   },
   "file_extension": ".py",
   "mimetype": "text/x-python",
   "name": "python",
   "nbconvert_exporter": "python",
   "pygments_lexer": "ipython3",
   "version": "3.6.1"
  }
 },
 "nbformat": 4,
 "nbformat_minor": 2
}
