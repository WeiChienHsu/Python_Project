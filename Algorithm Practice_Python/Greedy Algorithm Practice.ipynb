{
 "cells": [
  {
   "cell_type": "markdown",
   "metadata": {},
   "source": [
    "## Greedy Algorithm Practice 0823"
   ]
  },
  {
   "cell_type": "markdown",
   "metadata": {},
   "source": [
    "###  1. 加油站問題：從A到B，中間有n個加油站，每次加油後，可跑L公里，請問最少需要加多少次油？\n",
    "\n",
    "####  From the A stop to the B stop, there are n numbers of filling stop located in the middle. After each refilling, the car could run for L miles. To reach the destionation B stop, how many times at least the car need to be refilled?\n"
   ]
  },
  {
   "cell_type": "code",
   "execution_count": 14,
   "metadata": {},
   "outputs": [
    {
     "name": "stdout",
     "output_type": "stream",
     "text": [
      "Refill at 375\n",
      "Refill at 750\n",
      "2\n"
     ]
    }
   ],
   "source": [
    "x = [0,200,375,550,750,950]\n",
    "L = 400 #distance with full tank\n",
    "n = 4 #station\n",
    "\n",
    "current_loc = 0\n",
    "number_Refill = 0\n",
    "\n",
    "while current_loc <= n:\n",
    "    last_loc = current_loc\n",
    "    while current_loc <= n and x[current_loc+1]-x[last_loc]<= L:\n",
    "        current_loc += 1\n",
    "    \n",
    "    if x[current_loc] < x[len(x)-1]:\n",
    "        print('Refill at %s'%(x[current_loc]))\n",
    "    \n",
    "    \n",
    "    if current_loc == last_loc:\n",
    "        print('impossible')\n",
    "    \n",
    "    if current_loc <=n:\n",
    "        number_Refill += 1\n",
    "\n",
    "print (number_Refill)"
   ]
  },
  {
   "cell_type": "markdown",
   "metadata": {},
   "source": [
    "#### 2.包包問題：一個最大能容納50公斤的包包，現在一共有三樣價值與重量不同的東西要放入其中，請問放置後的最大價值為多少？ \n",
    "\n",
    "##### A Farctional Knapsack problem: With 50 kg capacity, there's a bag and three different items with differnet weights and values. Try to put the highest values into the bag within the limitation of the bag."
   ]
  },
  {
   "cell_type": "code",
   "execution_count": 25,
   "metadata": {
    "collapsed": true
   },
   "outputs": [],
   "source": [
    "def find_optinal_value(capacity,values,weights):\n",
    "    value = 0\n",
    "    valuePerWeight = sorted([[values/weights,weights] for values,weights in zip(values,weights) ],reverse=True)\n",
    "\n",
    "    while capacity >0 and valuePerWeight:\n",
    "        maxi = 0\n",
    "        idx = None\n",
    "        for i,item in enumerate(valuePerWeight):        \n",
    "            if item[1]>0 and item[0]>maxi:\n",
    "                maxi = item[0]\n",
    "                idx = i\n",
    "                \n",
    "        if idx is None:\n",
    "            return 0.\n",
    "        \n",
    "        w = valuePerWeight[idx][1]\n",
    "        v_per = valuePerWeight[idx][0]\n",
    "    \n",
    "        if w >= capacity:\n",
    "            value += v_per*capacity\n",
    "            capacity = 0\n",
    "            return value\n",
    "    \n",
    "        else:\n",
    "            value += v_per*w\n",
    "            capacity -= w\n",
    "    \n",
    "        valuePerWeight.pop(idx)\n",
    "            "
   ]
  },
  {
   "cell_type": "code",
   "execution_count": 34,
   "metadata": {},
   "outputs": [
    {
     "name": "stdout",
     "output_type": "stream",
     "text": [
      "180.0\n",
      "180.0000000000\n"
     ]
    }
   ],
   "source": [
    "capacity = 50\n",
    "values = [60,100,120]\n",
    "weights = [20,50,30]\n",
    "\n",
    "\n",
    "find_optinal_value(capacity,values,weights)"
   ]
  },
  {
   "cell_type": "markdown",
   "metadata": {},
   "source": [
    "#### 3.換錢問題：將錢換成10,5,1 output一共需要多少硬幣\n",
    "\n",
    "##### Change the money into coins with coin, penny and cent and output the total amounts."
   ]
  },
  {
   "cell_type": "code",
   "execution_count": 3,
   "metadata": {},
   "outputs": [
    {
     "name": "stdout",
     "output_type": "stream",
     "text": [
      "44\n",
      "換44的金額時需要8個硬幣\n"
     ]
    }
   ],
   "source": [
    "num = int(input())\n",
    "ori_num = num\n",
    "ans = 0\n",
    "for n in [10,5,1]:\n",
    "    ans += int(num/n)\n",
    "    num = num%n\n",
    "\n",
    "print(\"換%s的金額時需要%s個硬幣\"%(ori_num,ans))\n",
    "    "
   ]
  },
  {
   "cell_type": "markdown",
   "metadata": {},
   "source": [
    "#### 4.裝包包問題：\n",
    "The first line of the input contains the number 𝑛 of items and the capacity 𝑊 of a knapsack. The next 𝑛 lines de ne the values and weights of the items. The 𝑖-th line contains integers 𝑣𝑖 and 𝑤𝑖—the value and the weight of 𝑖-th item, respectively."
   ]
  },
  {
   "cell_type": "code",
   "execution_count": 6,
   "metadata": {
    "collapsed": true
   },
   "outputs": [],
   "source": [
    "def find_optinal_value(capacity,weights,values):\n",
    "    value = 0\n",
    "    valuePerWeight = sorted([[values/weights,weights] for values,weights in zip(values,weights) ],reverse=True)\n",
    "\n",
    "    while capacity >0 and valuePerWeight:\n",
    "        maxi = 0\n",
    "        idx = None\n",
    "        for i,item in enumerate(valuePerWeight):        \n",
    "            if item[1]>0 and item[0]>maxi:\n",
    "                maxi = item[0]\n",
    "                idx = i\n",
    "                \n",
    "        if idx is None:  ## 這行不太清楚為什麼要寫，但如果不寫的話壓力測試不會過\n",
    "            return 0\n",
    "        \n",
    "        w = valuePerWeight[idx][1]\n",
    "        v_per = valuePerWeight[idx][0]\n",
    "    \n",
    "        if w >= capacity:\n",
    "            value += v_per*capacity\n",
    "            capacity = 0\n",
    "            return value\n",
    "    \n",
    "        else:\n",
    "            value += v_per*w\n",
    "            capacity -= w\n",
    "    \n",
    "        valuePerWeight.pop(idx)\n",
    "\n",
    "    return value"
   ]
  },
  {
   "cell_type": "code",
   "execution_count": 7,
   "metadata": {},
   "outputs": [
    {
     "name": "stdout",
     "output_type": "stream",
     "text": [
      "33 31 32 42 44\n",
      "23.6190\n"
     ]
    }
   ],
   "source": [
    "if __name__ == \"__main__\":\n",
    "    data = list(map(int,input().split()))\n",
    "    n, capacity = data[0:2]\n",
    "    values = data[2:(2 * n + 2):2]\n",
    "    weights = data[3:(2 * n + 2):2]\n",
    "    opt_value = find_optinal_value(capacity, weights, values)\n",
    "    print(\"{:.4f}\".format(opt_value))"
   ]
  },
  {
   "cell_type": "markdown",
   "metadata": {},
   "source": [
    "#### 5.從兩數列中找尋相乘最大的解：\n",
    "\n",
    "You have 𝑛 ads to place on a popular Internet page. For each ad, you know how much is the advertiser willing to pay for one click on this ad. You have set up 𝑛 slots on your page and estimated the expected number of clicks per day for each slot. Now, your goal is to distribute the ads among the slots to maximize the total revenue."
   ]
  },
  {
   "cell_type": "code",
   "execution_count": 23,
   "metadata": {
    "collapsed": true
   },
   "outputs": [],
   "source": [
    "def max_dot_product(a, b):\n",
    "    a.sort()\n",
    "    b.sort()\n",
    "    res = 0\n",
    "    for i in range(len(a)):\n",
    "        res += a[i] * b[i]\n",
    "    return res\n",
    "\n"
   ]
  },
  {
   "cell_type": "code",
   "execution_count": 29,
   "metadata": {},
   "outputs": [
    {
     "name": "stdout",
     "output_type": "stream",
     "text": [
      "2 -4 -5 5 3 -4 -4\n",
      "36\n"
     ]
    }
   ],
   "source": [
    "if __name__ == '__main__':\n",
    "    k = input()\n",
    "    data = list(map(int, k.split()))\n",
    "    n = data[0]\n",
    "    a = data[1:(n + 1)]\n",
    "    b = data[(n + 1):]\n",
    "    print(max_dot_product(a, b))"
   ]
  },
  {
   "cell_type": "markdown",
   "metadata": {},
   "source": [
    "#### 6 Problem: Collecting Signatures\n",
    "#### 找出同時存在在各區間的點\n",
    "You are responsible for collecting signatures from all tenants of a certain build- ing. For each tenant, you know a period of time when he or she is at home. You would like to collect all signatures by visiting the building as few times as possible.\n",
    "The mathematical model for this problem is the following. You are given a set of segments on a line and your goal is to mark as few points on a line as possible so that each segment contains at least one marked point."
   ]
  },
  {
   "cell_type": "code",
   "execution_count": 2,
   "metadata": {},
   "outputs": [
    {
     "name": "stdout",
     "output_type": "stream",
     "text": [
      "100 41 42 52 52 63 63 80 82 78 79 35 35 22 23 31 32 44 45 81 82 36 38 10 12 1 1 23 23 32 33 87 88 55 56 69 71 89 91 93 93 38 40 33 34 14 16 57 59 70 72 36 36 29 29 73 74 66 68 36 38 1 3 49 50 68 70 26 28 30 30 1 2 64 65 57 58 58 58 51 53 41 41 17 18 45 46 4 4 0 1 65 67 92 93 84 85 75 77 39 41 15 15 29 31 83 84 12 14 91 93 83 84 81 81 3 4 66 67 8 8 17 19 86 87 44 44 34 34 74 74 94 95 79 81 29 29 60 61 58 59 62 62 54 56 58 58 79 79 89 91 40 42 2 4 12 14 5 5 28 28 35 36 7 8 82 84 49 51 2 4 57 59 25 27 52 53 48 49 9 9 10 10 78 78 26 26 83 84 22 24 86 87 52 54 49 51 63 64 54 54\n",
      "43\n",
      "1 4 5 8 9 10 14 15 18 23 26 28 29 30 32 34 35 36 40 41 44 46 49 52 54 56 58 61 62 63 65 67 70 74 77 78 79 81 84 87 91 93 95 "
     ]
    }
   ],
   "source": [
    "# Uses python3\n",
    "from collections import namedtuple\n",
    "\n",
    "Segment = namedtuple('Segment', 'start end')\n",
    "\n",
    "def optimal_points(segments):\n",
    "    seg_text = segments\n",
    "    points = []\n",
    "    inx = 0\n",
    "    a = 0\n",
    "    if segments[0][0]==0 and segments[0][1] < segments[1][0]:\n",
    "        points.append(0)\n",
    "    if segments[len(segments)-1][0] > segments[len(segments)-2][1]:\n",
    "        a = segments[len(segments)-1][1]\n",
    "    \n",
    "    while len(segments)>1:\n",
    "        inx = segments[0][1]\n",
    "        \n",
    "        if inx > segments[1][0]:\n",
    "            if inx >= segments[1][1]:\n",
    "                segments.remove(segments[0])\n",
    "                continue\n",
    "            elif inx < segments[1][1]:\n",
    "                segments.remove(segments[1])\n",
    "                continue\n",
    "        \n",
    "        elif inx < segments[1][0]:\n",
    "            if segments[0][0] in points:\n",
    "                segments.remove(segments[0]) \n",
    "                continue\n",
    "            else:\n",
    "                points.append(inx)\n",
    "                segments.remove(segments[0])\n",
    "                continue\n",
    "        \n",
    "        elif inx == segments[1][0]:\n",
    "            if segments[0][0] in points:\n",
    "                segments.remove(segments[0]) \n",
    "                continue\n",
    "            else:\n",
    "                points.append(inx)\n",
    "                segments.remove(segments[0])\n",
    "                continue\n",
    "    \n",
    "    if a:\n",
    "        points.append(a)\n",
    "    \n",
    "    return(points)\n",
    "\n",
    "    \n",
    "\n",
    "if __name__ == '__main__':\n",
    "    put = input()\n",
    "    n, *data = map(int, put.split())\n",
    "    segments = sorted(list(map(lambda x: Segment(x[0], x[1]), zip(data[::2], data[1::2]))))\n",
    "    points = optimal_points(segments)\n",
    "    print(len(points))\n",
    "    for p in points:\n",
    "        print(p, end=' ')\n"
   ]
  },
  {
   "cell_type": "markdown",
   "metadata": {},
   "source": [
    "Input:\n",
    "100\n",
    "41 42\n",
    "52 52\n",
    "63 63\n",
    "80 82\n",
    "78 79\n",
    "35 35\n",
    "22 23\n",
    "31 32\n",
    "44 45\n",
    "81 82\n",
    "36 38\n",
    "10 12\n",
    "1 1\n",
    "23 23\n",
    "32 33\n",
    "87 88\n",
    "55 56\n",
    "69 71\n",
    "89 91\n",
    "93 93\n",
    "38 40\n",
    "33 34\n",
    "14 16\n",
    "57 59\n",
    "70 72\n",
    "36 36\n",
    "29 29\n",
    "73 74\n",
    "66 68\n",
    "36 38\n",
    "1 3\n",
    "49 50\n",
    "68 70\n",
    "26 28\n",
    "30 30\n",
    "1 2\n",
    "64 65\n",
    "57 58\n",
    "58 58\n",
    "51 53\n",
    "41 41\n",
    "17 18\n",
    "45 46\n",
    "4 4\n",
    "0 1\n",
    "65 67\n",
    "92 93\n",
    "84 85\n",
    "75 77\n",
    "39 41\n",
    "15 15\n",
    "29 31\n",
    "83 84\n",
    "12 14\n",
    "91 93\n",
    "83 84\n",
    "81 81\n",
    "3 4\n",
    "66 67\n",
    "8 8\n",
    "17 19\n",
    "86 87\n",
    "44 44\n",
    "34 34\n",
    "74 74\n",
    "94 95\n",
    "79 81\n",
    "29 29\n",
    "60 61\n",
    "58 59\n",
    "62 62\n",
    "54 56\n",
    "58 58\n",
    "79 79\n",
    "89 91\n",
    "40 42\n",
    "2 4\n",
    "12 14\n",
    "5 5\n",
    "28 28\n",
    "35 36\n",
    "7 8\n",
    "82 84\n",
    "49 51\n",
    "2 4\n",
    "57 59\n",
    "25 27\n",
    "52 53\n",
    "48 49\n",
    "9 9\n",
    "10 10\n",
    "78 78\n",
    "26 26\n",
    "83 84\n",
    "22 24\n",
    "86 87\n",
    "52 54\n",
    "49 51\n",
    "63 64\n",
    "54 54\n"
   ]
  },
  {
   "cell_type": "markdown",
   "metadata": {},
   "source": [
    "Output: 1 4 5 8 9 10 14 15 18 23 26 28 29 30 32 34 35 36 40 41 44 46 49 52 54 56 58 61 62 63 65 67 70 74 77 78 79 81 84 87 91 93 95 "
   ]
  },
  {
   "cell_type": "markdown",
   "metadata": {},
   "source": [
    "5 Problem: Maximizing the Number of Prize Places in a Competi- tion"
   ]
  },
  {
   "cell_type": "markdown",
   "metadata": {},
   "source": []
  },
  {
   "cell_type": "code",
   "execution_count": null,
   "metadata": {
    "collapsed": true
   },
   "outputs": [],
   "source": [
    "3 1 7 5 6 5 8"
   ]
  },
  {
   "cell_type": "code",
   "execution_count": null,
   "metadata": {
    "collapsed": true
   },
   "outputs": [],
   "source": []
  },
  {
   "cell_type": "code",
   "execution_count": null,
   "metadata": {
    "collapsed": true
   },
   "outputs": [],
   "source": []
  },
  {
   "cell_type": "code",
   "execution_count": null,
   "metadata": {
    "collapsed": true
   },
   "outputs": [],
   "source": []
  },
  {
   "cell_type": "code",
   "execution_count": null,
   "metadata": {
    "collapsed": true
   },
   "outputs": [],
   "source": []
  },
  {
   "cell_type": "code",
   "execution_count": null,
   "metadata": {
    "collapsed": true
   },
   "outputs": [],
   "source": []
  },
  {
   "cell_type": "code",
   "execution_count": null,
   "metadata": {
    "collapsed": true
   },
   "outputs": [],
   "source": []
  }
 ],
 "metadata": {
  "kernelspec": {
   "display_name": "Python 3",
   "language": "python",
   "name": "python3"
  },
  "language_info": {
   "codemirror_mode": {
    "name": "ipython",
    "version": 3
   },
   "file_extension": ".py",
   "mimetype": "text/x-python",
   "name": "python",
   "nbconvert_exporter": "python",
   "pygments_lexer": "ipython3",
   "version": "3.6.1"
  }
 },
 "nbformat": 4,
 "nbformat_minor": 2
}
