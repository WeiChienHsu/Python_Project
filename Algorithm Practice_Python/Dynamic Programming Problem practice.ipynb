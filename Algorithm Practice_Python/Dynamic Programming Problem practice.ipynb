{
 "cells": [
  {
   "cell_type": "markdown",
   "metadata": {},
   "source": [
    "## Dynamic Programming"
   ]
  },
  {
   "cell_type": "markdown",
   "metadata": {},
   "source": [
    "## Coins change - Recirsove solution"
   ]
  },
  {
   "cell_type": "code",
   "execution_count": 14,
   "metadata": {},
   "outputs": [],
   "source": [
    "def recDC(coinValueList,change,knownResults):\n",
    "    minCoins = change\n",
    "    if change in coinValueList:\n",
    "        knownResults[change] = 1\n",
    "        return 1\n",
    "    elif knownResults[change] > 0:\n",
    "        return knownResults[change]\n",
    "    else:\n",
    "        for i in [c for c in coinValueList if c <= change]:\n",
    "            numCoins = 1 + recDC(coinValueList, change-i,\n",
    "                              knownResults)\n",
    "            if numCoins < minCoins:\n",
    "                minCoins = numCoins\n",
    "                knownResults[change] = minCoins\n",
    "    return minCoins\n"
   ]
  },
  {
   "cell_type": "code",
   "execution_count": 15,
   "metadata": {},
   "outputs": [
    {
     "name": "stdout",
     "output_type": "stream",
     "text": [
      "6\n"
     ]
    }
   ],
   "source": [
    "print(recDC([1,5,10,25],63,[0]*64))"
   ]
  },
  {
   "cell_type": "markdown",
   "metadata": {},
   "source": [
    "## Coins change - Dynamic programming"
   ]
  },
  {
   "cell_type": "code",
   "execution_count": 38,
   "metadata": {
    "collapsed": true
   },
   "outputs": [],
   "source": [
    "def dpMakeChange(coinValueList,change,minCoins):\n",
    "    for cents in range(change+1):\n",
    "        coinCount = cents\n",
    "        for j in [c for c in coinValueList if c <= cents]:\n",
    "            if minCoins[cents-j] + 1 < coinCount:\n",
    "                coinCount = minCoins[cents-j]+1\n",
    "        minCoins[cents] = coinCount\n",
    "    return minCoins[change]"
   ]
  },
  {
   "cell_type": "code",
   "execution_count": 39,
   "metadata": {},
   "outputs": [
    {
     "data": {
      "text/plain": [
       "8"
      ]
     },
     "execution_count": 39,
     "metadata": {},
     "output_type": "execute_result"
    }
   ],
   "source": [
    "dpMakeChange([1,4,5,7,10],63,[0]*64)"
   ]
  },
  {
   "cell_type": "code",
   "execution_count": 41,
   "metadata": {},
   "outputs": [],
   "source": [
    "def change(n,coinArray):\n",
    "    if n == 0:\n",
    "        return 0\n",
    "    best = -1\n",
    "    for coin in coinArray:\n",
    "        if coin <= n:\n",
    "            nextTry = change(n-coin,coinArray)\n",
    "        if best <0 or best > nextTry + 1:\n",
    "            best = nextTry +1\n",
    "    return best"
   ]
  },
  {
   "cell_type": "code",
   "execution_count": 44,
   "metadata": {},
   "outputs": [
    {
     "data": {
      "text/plain": [
       "4"
      ]
     },
     "execution_count": 44,
     "metadata": {},
     "output_type": "execute_result"
    }
   ],
   "source": [
    "change(25,[1,4,6,10])"
   ]
  },
  {
   "cell_type": "markdown",
   "metadata": {},
   "source": [
    "### Practice"
   ]
  },
  {
   "cell_type": "code",
   "execution_count": 80,
   "metadata": {},
   "outputs": [
    {
     "name": "stdout",
     "output_type": "stream",
     "text": [
      "[0, 1, 2, 1, 2, 1, 2, 3, 2, 3, 2, 3]\n"
     ]
    }
   ],
   "source": [
    "Min = [x for x in range(12)]\n",
    "VN = [1,3,5]\n",
    "\n",
    "for i in range(1,12): #用來計算出11以前的面值需要最少多少硬幣來換\n",
    "    for j in range(3): #用來選取[1,3,5]不同的硬幣\n",
    "        if VN[j] <= i and Min[i-VN[j]]+1 < Min[i]:\n",
    "            # 硬幣 < 要換的面額    # 取出其中一種硬幣後，換取該面額的最小值，比直接取出還小 ex i=5, Min[5]=5 > Min[5-5]+1 = 1\n",
    "            Min[i] = Min[i-VN[j]]+1\n",
    "print(Min)"
   ]
  },
  {
   "cell_type": "code",
   "execution_count": 81,
   "metadata": {
    "collapsed": true
   },
   "outputs": [],
   "source": [
    "def Change_DP(coinlist,cash):\n",
    "    Min = [x for x in range(cash+1)]\n",
    "    for amount in range(1,cash+1):\n",
    "        for coin in range(len(coinlist)):\n",
    "            if coinlist[coin] <= amount and Min[amount-coinlist[coin]]+1 < Min[amount]:\n",
    "                Min[amount] = Min[amount-coinlist[coin]]+1\n",
    "    return Min[cash]"
   ]
  },
  {
   "cell_type": "code",
   "execution_count": 82,
   "metadata": {},
   "outputs": [
    {
     "name": "stdout",
     "output_type": "stream",
     "text": [
      "input your coins seperated by space5 7 9\n",
      "input the number for cash you want to change:42\n",
      "the min. number of the coins is 6\n"
     ]
    }
   ],
   "source": [
    "if __name__ == '__main__':\n",
    "    coinlist = [int(x) for x in input(\"input your coins seperated by space\").split()]\n",
    "    cash = int(input(\"input the number for cash you want to change:\"))\n",
    "    print(\"the min. number of the coins is %s\"%(Change_DP(coinlist,cash)))"
   ]
  },
  {
   "cell_type": "markdown",
   "metadata": {},
   "source": [
    "## Problem 1 : Primitive Calculator\n"
   ]
  },
  {
   "cell_type": "raw",
   "metadata": {},
   "source": [
    "You are given a primitive calculator that can perform the following three operations with the current num- ber x: multiply x by 2,multiply x by 3, or add 1 to x. Your goal is given a positive integer n, find the minimum number of operations needed to obtain the number n starting from the number 1."
   ]
  },
  {
   "cell_type": "code",
   "execution_count": 91,
   "metadata": {},
   "outputs": [
    {
     "name": "stdout",
     "output_type": "stream",
     "text": [
      "96234\n",
      "14\n",
      "1 3 9 10 11 22 66 198 594 1782 5346 16038 16039 32078 96234 "
     ]
    }
   ],
   "source": [
    "def optimal_sequence(n):\n",
    "    count = [0]*(n+1)\n",
    "    sequence=[]\n",
    "    if n == 1:\n",
    "        sequence.append(1)\n",
    "        return sequence\n",
    "    else:\n",
    "        for i in range(2,n+1):\n",
    "            if(i < 4):\n",
    "                count[i] = 1\n",
    "            elif(i%2==0 and i%3 !=0):\n",
    "                if(count[i//2] < count[i-1] ):\n",
    "                    count[i] = count[i//2] + 1\n",
    "                else:\n",
    "                    count[i] = count[i-1] + 1\n",
    "            elif(i%3==0 and i%2 !=0):\n",
    "                if(count[i//3] < count[i-1] ):\n",
    "                    count[i] = count[i//3] + 1\n",
    "                else:\n",
    "                    count[i] = count[i-1] + 1             \n",
    "            elif(i%3 !=0 and i%2 !=0):\n",
    "                count[i] = count[i-1] + 1\n",
    "            else:\n",
    "                if(count[i//2]<count[i//3]):\n",
    "                    count[i] = count[i//2] + 1\n",
    "                else:\n",
    "                    count[i] = count[i//3] + 1\n",
    "        \n",
    "    while n > 0:\n",
    "        sequence.append(n)\n",
    "        if(n%2 == 0 and n%3 != 0):\n",
    "            if(count[n-1] < count[n//2]):\n",
    "                n = n-1\n",
    "            else:\n",
    "                n = n//2\n",
    "        elif(n%2 != 0 and n%3 == 0):\n",
    "            if(count[n-1] < count[n//3]):\n",
    "                n = n -1\n",
    "            else:\n",
    "                n = n//3\n",
    "        elif(n%2 == 0 and n%3 == 0):\n",
    "            n = n//3 # need more cases here skiped hoping this want catch as a bug\n",
    "        elif(n%2 != 0 and n%3 != 0):\n",
    "            n = n - 1\n",
    "                 \n",
    "    return reversed(sequence)\n",
    "\n",
    "inpt = input()\n",
    "n = int(inpt)\n",
    "sequence = list(optimal_sequence(n))\n",
    "print(len(sequence) - 1)\n",
    "for x in sequence:\n",
    "    print(x, end=' ')\n"
   ]
  },
  {
   "cell_type": "markdown",
   "metadata": {},
   "source": [
    "## Problem 2 : Take as Much Gold as Possible"
   ]
  },
  {
   "cell_type": "markdown",
   "metadata": {},
   "source": [
    "In this problem, you are given a set of bars of gold and your goal is to take as much gold as possible into your bag. There is just one copy of each bar and for each bar you can either take it or not (hence you cannot take a fraction of a bar)."
   ]
  },
  {
   "cell_type": "code",
   "execution_count": 100,
   "metadata": {},
   "outputs": [
    {
     "name": "stdout",
     "output_type": "stream",
     "text": [
      "10 3 1 4 8\n",
      "9\n"
     ]
    }
   ],
   "source": [
    "def optimal_weight(W, w):\n",
    "    dp_result = [[0 for x in range(W + 1)] for y in range(n + 1)]\n",
    "\n",
    "    for i in range(1, n+1):\n",
    "        for weight in range(1, W+1):\n",
    "            dp_result[i][weight] = dp_result[i-1][weight]\n",
    "            if w[i-1] <= weight:\n",
    "                val = dp_result[i-1][weight - w[i-1]] + w[i-1]\n",
    "                if val > dp_result[i][weight]:\n",
    "                    dp_result[i][weight] = val\n",
    "\n",
    "    return dp_result[n][W]\n",
    "\n",
    "    \n",
    "if __name__ == '__main__':\n",
    "    inpt = input()\n",
    "    W, n, *w = list(map(int, inpt.split()))\n",
    "    print(optimal_weight(W, w))\n"
   ]
  },
  {
   "cell_type": "code",
   "execution_count": null,
   "metadata": {
    "collapsed": true
   },
   "outputs": [],
   "source": []
  },
  {
   "cell_type": "code",
   "execution_count": null,
   "metadata": {
    "collapsed": true
   },
   "outputs": [],
   "source": []
  }
 ],
 "metadata": {
  "kernelspec": {
   "display_name": "Python 3",
   "language": "python",
   "name": "python3"
  },
  "language_info": {
   "codemirror_mode": {
    "name": "ipython",
    "version": 3
   },
   "file_extension": ".py",
   "mimetype": "text/x-python",
   "name": "python",
   "nbconvert_exporter": "python",
   "pygments_lexer": "ipython3",
   "version": "3.6.1"
  }
 },
 "nbformat": 4,
 "nbformat_minor": 2
}
